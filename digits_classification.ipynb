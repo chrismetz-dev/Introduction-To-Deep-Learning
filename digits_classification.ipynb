{
  "nbformat": 4,
  "nbformat_minor": 0,
  "metadata": {
    "kernelspec": {
      "display_name": "Python 3",
      "language": "python",
      "name": "python3"
    },
    "language_info": {
      "codemirror_mode": {
        "name": "ipython",
        "version": 3
      },
      "file_extension": ".py",
      "mimetype": "text/x-python",
      "name": "python",
      "nbconvert_exporter": "python",
      "pygments_lexer": "ipython3",
      "version": "3.6.2"
    },
    "colab": {
      "name": "digits_classification.ipynb",
      "provenance": []
    }
  },
  "cells": [
    {
      "cell_type": "markdown",
      "metadata": {
        "id": "_gRqpG6CecYH"
      },
      "source": [
        "# MNIST digits classification with TensorFlow"
      ]
    },
    {
      "cell_type": "markdown",
      "metadata": {
        "id": "iqAIqWmBecYJ"
      },
      "source": [
        "<img src=\"images/mnist_sample.png\" style=\"width:30%\">"
      ]
    },
    {
      "cell_type": "code",
      "metadata": {
        "id": "ThHDN5FiecYL",
        "outputId": "1517f350-b215-45b7-bd45-d3bfc3b20d7f"
      },
      "source": [
        "import numpy as np\n",
        "from sklearn.metrics import accuracy_score\n",
        "from matplotlib import pyplot as plt\n",
        "%matplotlib inline\n",
        "import tensorflow as tf\n",
        "print(\"We're using TF\", tf.__version__)"
      ],
      "execution_count": null,
      "outputs": [
        {
          "output_type": "stream",
          "text": [
            "We're using TF 1.2.1\n"
          ],
          "name": "stdout"
        }
      ]
    },
    {
      "cell_type": "code",
      "metadata": {
        "collapsed": true,
        "id": "DWDnD09kecYN"
      },
      "source": [
        "import sys\n",
        "sys.path.append(\"../..\")\n",
        "import grading\n",
        "\n",
        "import matplotlib_utils\n",
        "from importlib import reload\n",
        "reload(matplotlib_utils)\n",
        "\n",
        "import grading_utils\n",
        "reload(grading_utils)\n",
        "\n",
        "import keras_utils\n",
        "from keras_utils import reset_tf_session"
      ],
      "execution_count": null,
      "outputs": []
    },
    {
      "cell_type": "markdown",
      "metadata": {
        "id": "OYNJvQuYecYO"
      },
      "source": [
        "# Fill in your Coursera token and email\n",
        "To successfully submit your answers to our grader, please fill in your Coursera submission token and email"
      ]
    },
    {
      "cell_type": "code",
      "metadata": {
        "collapsed": true,
        "id": "G6AKYz8BecYO"
      },
      "source": [
        "grader = grading.Grader(assignment_key=\"XtD7ho3TEeiHQBLWejjYAA\", \n",
        "                        all_parts=[\"9XaAS\", \"vmogZ\", \"RMv95\", \"i8bgs\", \"rE763\"])"
      ],
      "execution_count": null,
      "outputs": []
    },
    {
      "cell_type": "code",
      "metadata": {
        "collapsed": true,
        "id": "iATt0SmxecYP"
      },
      "source": [
        "# token expires every 30 min\n",
        "COURSERA_TOKEN = \"REDACTED\"\n",
        "COURSERA_EMAIL = \"REDACTED\""
      ],
      "execution_count": 1,
      "outputs": []
    },
    {
      "cell_type": "markdown",
      "metadata": {
        "id": "iCqI8ojWecYQ"
      },
      "source": [
        "# Look at the data\n",
        "\n",
        "In this task we have 50000 28x28 images of digits from 0 to 9.\n",
        "We will train a classifier on this data."
      ]
    },
    {
      "cell_type": "code",
      "metadata": {
        "collapsed": true,
        "id": "aOquklNnecYS"
      },
      "source": [
        "import preprocessed_mnist\n",
        "X_train, y_train, X_val, y_val, X_test, y_test = preprocessed_mnist.load_dataset_from_file()"
      ],
      "execution_count": null,
      "outputs": []
    },
    {
      "cell_type": "code",
      "metadata": {
        "id": "-Xi7qP5uecYT",
        "outputId": "8c63cce3-75de-4c41-b69e-eb20e275c5b5"
      },
      "source": [
        "# X contains rgb values divided by 255\n",
        "print(\"X_train [shape %s] sample patch:\\n\" % (str(X_train.shape)), X_train[1, 15:20, 5:10])\n",
        "print(\"A closeup of a sample patch:\")\n",
        "plt.imshow(X_train[1, 15:20, 5:10], cmap=\"Greys\")\n",
        "plt.show()\n",
        "print(\"And the whole sample:\")\n",
        "plt.imshow(X_train[1], cmap=\"Greys\")\n",
        "plt.show()\n",
        "print(\"y_train [shape %s] 10 samples:\\n\" % (str(y_train.shape)), y_train[:10])"
      ],
      "execution_count": null,
      "outputs": [
        {
          "output_type": "stream",
          "text": [
            "X_train [shape (50000, 28, 28)] sample patch:\n",
            " [[ 0.          0.29803922  0.96470588  0.98823529  0.43921569]\n",
            " [ 0.          0.33333333  0.98823529  0.90196078  0.09803922]\n",
            " [ 0.          0.33333333  0.98823529  0.8745098   0.        ]\n",
            " [ 0.          0.33333333  0.98823529  0.56862745  0.        ]\n",
            " [ 0.          0.3372549   0.99215686  0.88235294  0.        ]]\n",
            "A closeup of a sample patch:\n"
          ],
          "name": "stdout"
        },
        {
          "output_type": "display_data",
          "data": {
            "image/png": "[encoded data removed]",
            "text/plain": [
              "<matplotlib.figure.Figure at 0x7fac0cc1e358>"
            ]
          },
          "metadata": {
            "tags": []
          }
        },
        {
          "output_type": "stream",
          "text": [
            "And the whole sample:\n"
          ],
          "name": "stdout"
        },
        {
          "output_type": "display_data",
          "data": {
            "image/png": "[encoded data removed]",
            "text/plain": [
              "<matplotlib.figure.Figure at 0x7fab6805a550>"
            ]
          },
          "metadata": {
            "tags": []
          }
        },
        {
          "output_type": "stream",
          "text": [
            "y_train [shape (50000,)] 10 samples:\n",
            " [5 0 4 1 9 2 1 3 1 4]\n"
          ],
          "name": "stdout"
        }
      ]
    },
    {
      "cell_type": "markdown",
      "metadata": {
        "id": "6spa0YmrecYU"
      },
      "source": [
        "# Linear model\n",
        "\n",
        "Your task is to train a linear classifier $\\vec{x} \\rightarrow y$ with SGD using TensorFlow.\n",
        "\n",
        "You will need to calculate a logit (a linear transformation) $z_k$ for each class: \n",
        "$$z_k = \\vec{x} \\cdot \\vec{w_k} + b_k \\quad k = 0..9$$\n",
        "\n",
        "And transform logits $z_k$ to valid probabilities $p_k$ with softmax: \n",
        "$$p_k = \\frac{e^{z_k}}{\\sum_{i=0}^{9}{e^{z_i}}} \\quad k = 0..9$$\n",
        "\n",
        "We will use a cross-entropy loss to train our multi-class classifier:\n",
        "$$\\text{cross-entropy}(y, p) = -\\sum_{k=0}^{9}{\\log(p_k)[y = k]}$$ \n",
        "\n",
        "where \n",
        "$$\n",
        "[x]=\\begin{cases}\n",
        "       1, \\quad \\text{if $x$ is true} \\\\\n",
        "       0, \\quad \\text{otherwise}\n",
        "    \\end{cases}\n",
        "$$\n",
        "\n",
        "Cross-entropy minimization pushes $p_k$ close to 1 when $y = k$, which is what we want.\n",
        "\n",
        "Here's the plan:\n",
        "* Flatten the images (28x28 -> 784) with `X_train.reshape((X_train.shape[0], -1))` to simplify our linear model implementation\n",
        "* Use a matrix placeholder for flattened `X_train`\n",
        "* Convert `y_train` to one-hot encoded vectors that are needed for cross-entropy\n",
        "* Use a shared variable `W` for all weights (a column $\\vec{w_k}$ per class) and `b` for all biases.\n",
        "* Aim for ~0.93 validation accuracy"
      ]
    },
    {
      "cell_type": "code",
      "metadata": {
        "id": "WMlqLthqecYV",
        "outputId": "3a99db02-f32e-45bf-9817-ae86adbd597e"
      },
      "source": [
        "X_train_flat = X_train.reshape((X_train.shape[0], -1))\n",
        "print(X_train_flat.shape)\n",
        "\n",
        "X_val_flat = X_val.reshape((X_val.shape[0], -1))\n",
        "print(X_val_flat.shape)"
      ],
      "execution_count": null,
      "outputs": [
        {
          "output_type": "stream",
          "text": [
            "(50000, 784)\n",
            "(10000, 784)\n"
          ],
          "name": "stdout"
        }
      ]
    },
    {
      "cell_type": "code",
      "metadata": {
        "id": "WCe9tE-BecYW",
        "outputId": "df7cf963-841a-49c5-d848-32219ea1d931"
      },
      "source": [
        "import keras\n",
        "\n",
        "y_train_oh = keras.utils.to_categorical(y_train, 10)\n",
        "y_val_oh = keras.utils.to_categorical(y_val, 10)\n",
        "\n",
        "print(y_train_oh.shape)\n",
        "print(y_train_oh[:3], y_train[:3])"
      ],
      "execution_count": null,
      "outputs": [
        {
          "output_type": "stream",
          "text": [
            "(50000, 10)\n",
            "[[ 0.  0.  0.  0.  0.  1.  0.  0.  0.  0.]\n",
            " [ 1.  0.  0.  0.  0.  0.  0.  0.  0.  0.]\n",
            " [ 0.  0.  0.  0.  1.  0.  0.  0.  0.  0.]] [5 0 4]\n"
          ],
          "name": "stdout"
        }
      ]
    },
    {
      "cell_type": "code",
      "metadata": {
        "collapsed": true,
        "id": "dwUHYLszecYX"
      },
      "source": [
        "# run this again if you remake your graph\n",
        "s = reset_tf_session()"
      ],
      "execution_count": null,
      "outputs": []
    },
    {
      "cell_type": "code",
      "metadata": {
        "collapsed": true,
        "id": "B_CuDl_HecYX"
      },
      "source": [
        "# Model parameters: W and b\n",
        "W = tf.get_variable(\"W\", shape=(X_train_flat.shape[1], 10), dtype=tf.float32)### YOUR CODE HERE ### tf.get_variable(...) with shape[0] = 784\n",
        "b = tf.get_variable(\"b\", shape=(10,), dtype=tf.float32)### YOUR CODE HERE ### tf.get_variable(...)"
      ],
      "execution_count": null,
      "outputs": []
    },
    {
      "cell_type": "code",
      "metadata": {
        "collapsed": true,
        "id": "usuaGExEecYY"
      },
      "source": [
        "# Placeholders for the input data\n",
        "input_X = tf.placeholder(shape=(None, X_train_flat.shape[1]), dtype=tf.float32) ### YOUR CODE HERE ### tf.placeholder(...) for flat X with shape[0] = None for any batch size\n",
        "input_y = tf.placeholder(shape=(None, 10), dtype=tf.float32)### YOUR CODE HERE ### tf.placeholder(...) for one-hot encoded true labels"
      ],
      "execution_count": null,
      "outputs": []
    },
    {
      "cell_type": "code",
      "metadata": {
        "collapsed": true,
        "id": "9ANxo4KEecYY"
      },
      "source": [
        "# Compute predictions\n",
        "logits = input_X @ W + b### YOUR CODE HERE ### logits for input_X, resulting shape should be [input_X.shape[0], 10]\n",
        "probas = tf.nn.softmax(logits) ### YOUR CODE HERE ### apply tf.nn.softmax to logits\n",
        "classes = tf.argmax(probas,1) ### YOUR CODE HERE ### apply tf.argmax to find a class index with highest probability\n",
        "\n",
        "# Loss should be a scalar number: average loss over all the objects with tf.reduce_mean().\n",
        "# Use tf.nn.softmax_cross_entropy_with_logits on top of one-hot encoded input_y and logits.\n",
        "# It is identical to calculating cross-entropy on top of probas, but is more numerically friendly (read the docs).\n",
        "loss = tf.reduce_mean(tf.nn.softmax_cross_entropy_with_logits(labels=input_y, logits=logits)) ### YOUR CODE HERE ### cross-entropy loss\n",
        "# average relduce this loss? = -(y * np.log(p) + (1-y)*np.log(1-p))\n",
        "\n",
        "# Use a default tf.train.AdamOptimizer to get an SGD step\n",
        "### YOUR CODE HERE \n",
        "optimizer = tf.train.AdamOptimizer()\n",
        "### optimizer step that minimizes the loss\n",
        "step = optimizer.minimize(loss)"
      ],
      "execution_count": null,
      "outputs": []
    },
    {
      "cell_type": "code",
      "metadata": {
        "scrolled": false,
        "id": "-IeeRE8wecYY",
        "outputId": "c007f6ab-aaa3-4bea-f011-6b7da8af34c4"
      },
      "source": [
        "s.run(tf.global_variables_initializer())\n",
        "\n",
        "BATCH_SIZE = 512\n",
        "EPOCHS = 40\n",
        "\n",
        "# for logging the progress right here in Jupyter (for those who don't have TensorBoard)\n",
        "simpleTrainingCurves = matplotlib_utils.SimpleTrainingCurves(\"cross-entropy\", \"accuracy\")\n",
        "\n",
        "for epoch in range(EPOCHS):  # we finish an epoch when we've looked at all training samples\n",
        "    \n",
        "    batch_losses = []\n",
        "    for batch_start in range(0, X_train_flat.shape[0], BATCH_SIZE):  # data is already shuffled\n",
        "        _, batch_loss = s.run([step, loss], {input_X: X_train_flat[batch_start:batch_start+BATCH_SIZE], \n",
        "                                             input_y: y_train_oh[batch_start:batch_start+BATCH_SIZE]})\n",
        "        # collect batch losses, this is almost free as we need a forward pass for backprop anyway\n",
        "        batch_losses.append(batch_loss)\n",
        "\n",
        "    train_loss = np.mean(batch_losses)\n",
        "    val_loss = s.run(loss, {input_X: X_val_flat, input_y: y_val_oh})  # this part is usually small\n",
        "    train_accuracy = accuracy_score(y_train, s.run(classes, {input_X: X_train_flat}))  # this is slow and usually skipped\n",
        "    valid_accuracy = accuracy_score(y_val, s.run(classes, {input_X: X_val_flat}))  \n",
        "    simpleTrainingCurves.add(train_loss, val_loss, train_accuracy, valid_accuracy)"
      ],
      "execution_count": null,
      "outputs": [
        {
          "output_type": "display_data",
          "data": {
            "text/html": [
              "<img src=\"data:image/jpeg;base64,/9j/4AAQSkZJRgABAQAAAQABAAD/2wBDAAIBAQEBAQIBAQECAgICAgQDAgICAgUEBAMEBgUGBgYFBgYGBwkIBgcJBwYGCAsICQoKCgoKBggLDAsKDAkKCgr/2wBDAQICAgICAgUDAwUKBwYHCgoKCgoKCgoKCgoKCgoKCgoKCgoKCgoKCgoKCgoKCgoKCgoKCgoKCgoKCgoKCgoKCgr/wAARCAEgA2ADASIAAhEBAxEB/8QAHwAAAQUBAQEBAQEAAAAAAAAAAAECAwQFBgcICQoL/8QAtRAAAgEDAwIEAwUFBAQAAAF9AQIDAAQRBRIhMUEGE1FhByJxFDKBkaEII0KxwRVS0fAkM2JyggkKFhcYGRolJicoKSo0NTY3ODk6Q0RFRkdISUpTVFVWV1hZWmNkZWZnaGlqc3R1dnd4eXqDhIWGh4iJipKTlJWWl5iZmqKjpKWmp6ipqrKztLW2t7i5usLDxMXGx8jJytLT1NXW19jZ2uHi4%2BTl5ufo6erx8vP09fb3%2BPn6/8QAHwEAAwEBAQEBAQEBAQAAAAAAAAECAwQFBgcICQoL/8QAtREAAgECBAQDBAcFBAQAAQJ3AAECAxEEBSExBhJBUQdhcRMiMoEIFEKRobHBCSMzUvAVYnLRChYkNOEl8RcYGRomJygpKjU2Nzg5OkNERUZHSElKU1RVVldYWVpjZGVmZ2hpanN0dXZ3eHl6goOEhYaHiImKkpOUlZaXmJmaoqOkpaanqKmqsrO0tba3uLm6wsPExcbHyMnK0tPU1dbX2Nna4uPk5ebn6Onq8vP09fb3%2BPn6/9oADAMBAAIRAxEAPwD9/KKKKACiiigAooooAKKKKACiiigAooooAKKKKACiiigAooooAKKKKACiiigAooooAKKKKACiiigAooooAKKKKACiiigAooooAKKKKACiiigAooooAKKKKACiiigAooooAKKKKACiiigAooooAKKKKACiiigAooooAKKKKACiiigAooooAKKKKACiiigAooooAKKKKACiiigAooooAKKKKACiiigAooooAKKKKACiiigAooooAKKKKACiiigAooooAKKKKACiiigAooooAKKKKACiiigAooooAKKKKACiiigAooooAKKKKACiiigAooooAKKKKACiiigAooooAKKKKACiiigAooooAKKKKACvPfjt%2B1J8FP2b5NGsfil4g1Maj4ilnTQNB8OeF9R1zVNR8lVed4bHTbee5kjiVkMkixlI96biu5c%2BhV4N%2B0P8D/j5/wANJ%2BDv2tv2bLLwfrWueH/B2seFNX8KeOdcutLtLywv7mwuxcQXtraXj288U2noCpt3WVJSCUKK1ABpf/BTL9izWLvxPb2nxXv0h8FWsk/jLUrvwXrEFjoIS0iu9l5dy2iwWsrQzRskMjrJIWKorMrKL2n/APBQ/wDZK1HwBrXxFTx/q9vB4f1ay0vVdE1DwNrNrrkV5ebfscC6PNaLqEr3AYGER27eaAxTcFYjy2b9gH4y%2BMf2a/jn8NfGHinwppHin4o/FS38daHc6U1xeWFpeW0OiywQ3IkihkkiN3pRRwoyYHGDuJVaPi79i/8AaV%2BLmr/Ef45fG34S/CjWvFnjWx8KaPp/gKy%2BI2s2Wm6fY6Hcaldw3qa7b6al5DqDXOqTOksVoPJSKNFZiWcgHsviH9vv9mzwv4a8OeI9XvvG3meK0v5NE8P2vwm8SXGuSRWUscV3NJpMWntf28MLzQq8s0CIpmiy37xM%2Bmaz8RPBHhv4e3XxX8T%2BJbbSvDljo76rf6vqrfZYbSySIzPPMZdvlKsYLNvxtAOcYNfGHin9hH9s/WPgX4X8Nay3hfxV470a58RHRfGV/wDHbxNpGr%2BCLW%2BuUktLO11q1sJLzXIYkjhEy3qw/aTbReYCFGPUfjR/wTotfj1%2Bzb4n%2BHHxD%2BOfjW78d%2BMPhfH4Z17xS3jbWho818tpDE2oJoS3y2FuzzQLK3kRRSEPIBIrSM5AOkg/4KUfsZf8K58V/FbWPite6Jo3giysr7xQ/ifwdq%2Bk3NlZXkxhtb37LeWsVxJaSyK6pcxxtC3luQ%2BEYjj/AI3f8FZP2d/hn8ENU%2BMfgPRfFXiqbQfiD4X8L674Y/4QXXbHU7A6zqVrax3T2cmnNdeV5Fw88DeT5d48aW8MhknjB8r1T/gmJ8ZPHfwq8faR4i8DeG9G8Y%2BI9D0fR7DxDqv7RfjPxut3aWusW%2BoTRyf27AfsEZ8likUSzHe%2BGkxknv8A9qH9gz40/GD4g/F/4g%2BBfEPheOTxfB8LbzwlZ6tfXMSvf%2BE/EdzrUsN40dvJ5ENwGt4VljEzrl2MfyKrgHqFh/wUE/Zb1H4m2XwZh8T%2BJo/Fd5oun6xLoF38N9egudO0%2B9adILu/SSyU6dDut5VeS68pYiFEhQum6j4a/wCCmH7FPi3wZ4s%2BIWkfGC4TR/Bfgi68Zaxe6h4S1W0Fx4et0Z5tWsVntUbVLNVQ4nsxPGxZArEugbB0P9kP4ofEP4mfG74g/G9fD2gxfGj4O%2BHfCF1Y%2BE9duNRl0u4tE11Ltlnns7XzYwNViMT7FZikm6OPA3fN37Y37Kn7UOj/ALDHxS%2BJv7TF34AtIfhD%2BxT8QfBHhePwFqF5cNrzXukWxn1G6W5toBYqE0i3CWcbXAVppCZ22oKAPrPw9/wUl/Yy8TaHrHiPT/i1dQWehppU1/JqnhLVbJmtNSu1s7HUIUuLVGubCWdgovoQ9qoDO0qorMPT9E%2BLvw88R/FLX/gvofiH7T4k8LaXp%2Boa/YR2k22zgvmuBa7pinlF3%2ByzHy1cyKoRmVVkjLfJOofsz%2BIPFegeKfjb/wAFIvF/wz8J%2BBbf9nu5%2BHUlx4f8QTLay6beyQyXmq3k17BbpYOTBbCG2QzCAmT/AEiQsuOw/wCCPngP4u2f7I9r8f8A9pDUDf8AxJ%2BL15H4n8V6g9nJbtJCLSCy01fKl%2BeH/iX2lpI0TYKSzTZAYtkA%2BqqKKKACiiigAooooAKKKKACiiigAooooAKKKKACiiigAooooAKKKKACiiigAooooAKKKKACiiigAooooAKKKKACiiigAooooAK8R0j/AIKMfse6ld69Z6n8Urzw83hzw5c%2BINQk8a%2BEdV0GObSbd0jnv7WTUrWBb63R5IlaW2MqAyxjOXXPtN7FczWcsNndCCZ4mWKYx7/LYjhtp64POO9fmJq//BHL9uX4v6t4X1z43fHHQ31vw14P1Cz1DxRqHxW8TeJx4h1v7ZpV9a6idLvoobLSbaS50xfPsLIBRHJtWWQKgUA%2B2X/b/wD2YbX4aN8WNY8QeKtK0ttcg0axs9c%2BGWv2GqanfzIZIYLLTbixS9v2kQM6/Z4ZAyo7AkIxHReA/wBqz4H/ABH1%2By8J%2BHPEOqQ6vf8AhSfxJDpGteFdS0y7TTYbv7JLLLDeW8UkDrP8hhkVZe%2BzbzXk3xO%2BDn7bvxib4e/G3XPBvwq0P4h/Cjx1NrHh/wAM2vjjUr/Rdcs7jSbvTLmO4vn0qGaxmKXskkbpa3AjMQU%2BYJGxV%2BJPwG/bg1/4y%2BHf2mvA%2BjfCu08WX3ww1XwX4x0LUvFepSWGkLcX8N1a39lcJpwk1AxCN1kt5YrQSlxiWLHIB3Gk/wDBRv8AZA8R694F8LeFfiNqus6n8SfBuleLfBunaJ4H1m9nvND1F9lrqMiQWjNa2%2B7HmSTiNbcMpm8oMCdj4a/tufs3fFf4jXPwn8M%2BL9Ws9ft9LudThsvE/gzVtEW/sbeRI57uyl1G1gjv4I3liDy2zSIvmISQGUnyj9hT9hL4sfsw6/8ADjWfHniDw1dnwd%2Byl4R%2BGN%2B%2BkXM8rNq2lvM1zNF5kEe61bemxmKu235o0wK8a%2BGn/BKv9sbxP8UfC/ib9qb4w2eqRaf4A8V%2BF/GniaD4v%2BJNavPEUur2KW39p2umX0Men6EcqWNpaKUXKgTOI1WgD6l8J/8ABRf9kfxrosfirQfHeuf2Hcarpen6f4lvfh/rdrpWoy6lex2VlJaX09mlteQS3M0UYuIJHhBlQs4VgT6X4W%2BLvw88a/EDxT8LvC/iH7XrnguSzj8T2iWkwWxkuoPtEEZlZBG7tCVkKIzMiyRlgokTd8w%2BOPAnxF8K/wDBPbxp8CP%2BChnif4VeCPAWg/DSLQLb4meHfFt2GadI0trXUntLqzgTTZlmFvJDBHcXTGcoiOTtDdr/AMEr/h98WPDf7ImlfFX9oqwS3%2BJ3xYvpfHXxEhW3aL7Pf36xmG02N8yfZbGOys9pyQLXBoA%2BjaKKKACiiigAooooAKKKKACiiigAooooAKKKKACiiigAooooAKKKKACiiigAooooAKKKKACiiigAooooAKKKKACiiigAooooAx/iB8RPh/8ACbwdf/ET4p%2BOtG8M%2BH9LiEmp674g1OKys7RCwUNLNMypGCzKMsQMkDvVe9%2BLPwr034aL8aNR%2BJfh%2B38HNpUepr4sn1mBNMNjIiul0Lov5XksjKwk3bSGBBwaq/G7xF4e8JfCfXfEXinQtU1OytbItJZaL4au9YupHLAR%2BVZ2cM08zBypxHGxXG7gKSPnn9kr476Z8J/%2BCXXw%2Bu/EvwD%2BKWqaz4A%2BC2ipqvgX/hUutRatc39hZW9u9lBbXVpGZZ/tKYQDggeaD5amQAH0p8Ofif8ADT4xeErfx98I/iHoXinQrtnW01rw5q0N9aTFGKuEmhZkYqwKnB4IINeZ/Hrx/wDtF/8ADRfgX4EfAXxn4K8Ppr/grxLr2r6n4v8ABd3rRJ0670O3hhhjt9SsfLDf2pKzMzPny0AC8k5H/BO6wur34XeKfin4ns9XtPFfj/x1ceIfGmn6l4K1XQoLDUHs7O3S0tINUtbaeeCG1trSI3XlhbiaOeXCM7xpk63cfFLR/wDgqp8PrHx14x8O6hoeq/Bnx8/hax0rwzPZ3dgsereDzIlzcSXsyXhYMCGSG327DkNuG1NpblwhKo7R7N/dqzr/APhB/wDgoX/0dB8Gf/DD6t/81FH/AAg//BQv/o6D4M/%2BGH1b/wCaivZqKZB4z/wg/wDwUL/6Og%2BDP/hh9W/%2Baij/AIQf/goX/wBHQfBn/wAMPq3/AM1FezUUAeM/8IP/AMFC/wDo6D4M/wDhh9W/%2Baij/hB/%2BChf/R0HwZ/8MPq3/wA1FezUUAeM/wDCD/8ABQv/AKOg%2BDP/AIYfVv8A5qKP%2BEH/AOChf/R0HwZ/8MPq3/zUV7NRQB4z/wAIP/wUL/6Og%2BDP/hh9W/8Amoo/4Qf/AIKF/wDR0HwZ/wDDD6t/81FezUUAeM/8IP8A8FC/%2BjoPgz/4YfVv/moo/wCEH/4KF/8AR0HwZ/8ADD6t/wDNRXs1FAHjP/CD/wDBQv8A6Og%2BDP8A4YfVv/moo/4Qf/goX/0dB8Gf/DD6t/8ANRXs1effEDx/8DPhoNT8YfH3xx4U8P6edai0%2By1LxhqltaQeYbSOVYI5LllXeQJX2g5IVjjg4mc4U4uU2kl1bsvvdkbYfD4jF140aEJTnJ2UYpyk32UYqUm9Hok3psc1/wAIP/wUL/6Og%2BDP/hh9W/8Amoo/4Qf/AIKF/wDR0HwZ/wDDD6t/81FV/wDhr/8A4Jwf9HRfBH/wttH/APjtH/DX/wDwTg/6Oi%2BCP/hbaP8A/Ha5vr%2BA/wCf0P8AwOH/AMke1/qlxZ/0LsR/4T1//lBY/wCEH/4KF/8AR0HwZ/8ADD6t/wDNRR/wg/8AwUL/AOjoPgz/AOGH1b/5qK7D4aeJP2cvjRoUvin4O6/4J8WaZb3bWs%2Bo%2BGrqzv4I51VXaJpICyhwroxUnIDqcYIryf4g/ts/snfCH41/ET4RfFjwPqGh2nw08Dad4p8Q%2BLZPh/f3GlRWVyL5mLXMFo8UflpZE5Z/3jO0ce54ZVXphOFSKlBpp9U7r71dHi4jD4jCV5Ua8JQnF2cZJxkn2cZKMk9Vo0nrsdR/wg//AAUL/wCjoPgz/wCGH1b/AOaij/hB/wDgoX/0dB8Gf/DD6t/81FRN%2B03%2ByhbTeG49Y8J69pUPiu4ht9Iv9c%2BD%2Bt2Fos0169lbx3NzcWCQ2TzXChIluHiaXzYWQMs0TPzOu/t0/sU%2BArQn4kzWNvdte%2BK1htfDfgfVtYIs/D%2BqnTdRupRb6bvhSCVohMzL5SF2KSzRKJ2oxOr/AOEH/wCChf8A0dB8Gf8Aww%2Brf/NRR/wg/wDwUL/6Og%2BDP/hh9W/%2Baiu%2B0CP4MeK7ie08Lx%2BGNRmtoYJrmGxW3leGOdPMhd1XJUSJ8yk43LyMivD/ANn79qrRPjR8UtG8L65%2Bzdomh%2BGPHOm67qHwz8SQ6ql3Pq1vpV7DazG7tTaRixaZJ47mBUluN0IfzDC6iMgHZf8ACD/8FC/%2BjoPgz/4YfVv/AJqKP%2BEH/wCChf8A0dB8Gf8Aww%2Brf/NRXG%2BLP2qtE8NfHjUfA9v%2Bzdodz4E8PfETRfAfifxq2qpHeWmv6raWdxaJFp/2QrPa51LTYXnNyjLJdECJxE7Vt/CH4r%2BLfiTr/wAYPAWsfss%2BEtL8SfDXU47XQtPtvE63MGuifT0vLRppzYR/YmfzER1CTiPJIaTGKANf/hB/%2BChf/R0HwZ/8MPq3/wA1FH/CD/8ABQv/AKOg%2BDP/AIYfVv8A5qK5XwD%2B094a8R/sf2f7R3ir9nrRLHxNqOtX2gaZ4D0nUUvRqGtw6rcaZDZwXb2sJdJZ4NxmaFBFEXkdQkbkcFYf8FFPh34o8DfBXUvDPwf%2BGGleI/i58L9G8bT6T8Q/iNBoVlpkGpRQtbWEF0bCZ9QvJJHnSONIIw62krM0RKI4B7P/AMIP/wAFC/8Ao6D4M/8Ahh9W/wDmoo/4Qf8A4KF/9HQfBn/ww%2Brf/NRXH/Df9qDw38Sf22/iB%2ByTZfDX4TWUPw/1uHT7v7Z8QUHia/jk0HTdVF7BoY07BtQ%2BpJbmU3QGYJWxkCM0P2Z/23Pgh%2B0L4O8T/GyfQvhTpfw80Lw%2Bddj1HT/HUGpa1a6YVaWG51TTI7NRpgltl89E%2B0TPtIVlV8qADv8A/hB/%2BChf/R0HwZ/8MPq3/wA1FH/CD/8ABQv/AKOg%2BDP/AIYfVv8A5qK8s8PftoTeJP2U9W/aa1f9nP4Y/D9fD/jbU9E8Qaf8X/iTHoFppdvbXLwRyz3qaZcJHcu/kq1sU2o8jIJ5Nql6vhr9vTw342%2BM/wAM/hLpPwH%2BHHhqX4hfDXw94w%2Bx/E3x6mhawi6nPcxtp9lp402c393AtszMnmw5LopKA7gAeu/8IP8A8FC/%2BjoPgz/4YfVv/moo/wCEH/4KF/8AR0HwZ/8ADD6t/wDNRXJar%2B0laaB%2B1/b/ALJ1/wDBP4b6lf6tp9/eaPb%2BGfHCXutWkFvbGeK61XTX0%2BIabazMBClwJ5l82WFMHzCV474m/tv6n8DfB3xNb4yfsr/DzS/FPw4tPCN7cW1p8QfO0KS11/VZdOhe41OXSons3t2t5pp0Nq4WIwurMJPkAPXv%2BEH/AOChf/R0HwZ/8MPq3/zUUf8ACD/8FC/%2BjoPgz/4YfVv/AJqK4z4iftAeKvB/7IEn7W3hr4K/AzxFpmk%2BH9T13xLcaZ8V55dIj0%2B0SSQS2OoQaFKb5mSNtymGEK/yhpPvVX%2BIf7XOk/DTVfg14D8Q/ssacfF/xFn0MeOdCh1KIxeB4tRYQBpZ/s2bp/tfmQxR%2BXD562t1ICnklCAd3/wg/wDwUL/6Og%2BDP/hh9W/%2Baij/AIQf/goX/wBHQfBn/wAMPq3/AM1FZ/gL4n%2BIvFn7RnxU/Z11z9mjwhpl54I8K6L4g8J6iniP7RHr1rqdzrVtALpRp6nT2EmjOWCG6wk6n7ylDzXwm%2BMvx9%2BKfiL4qfD%2B3/Y5%2BE8HiD4baxpOlxvD8TrqbS9RvLmzS9ubd7o%2BH0lgkt7a4spMLbyhzdBS0ewkgHa/8IP/AMFC/wDo6D4M/wDhh9W/%2BaiqHgfxx%2B1Z4O/as8OfBH43fEf4e%2BJtG8TfD3xDrkM3hX4eX2i3VpdabfaJborPcavfJLG6apKSoRGDRIQ2Mgs/Ze%2BK0n7SP7K//DQGufBfQPCF5eSav/ZEWg6udRhmtrS7uLe21CC6a0tXMdwkC3MeYlPlzJnkkDS8cf8AKQv4X/8AZGfHn/p28IUAezUUUUAFcL%2B0T%2B0j8If2U/hrP8Xvjjrepab4etZdl3fab4bv9Ua3AjeRpJIrGCaRIlSN2eVlEaBSWZRXdV4V/wAFLfDPxU%2BIP7DXxL%2BE/wAFvg7rPjfxJ4y8IajoOl6RouoabatFLdWssazyyajd20SwqxUNtdpPmG1G5wAenfF74x/Dz4E%2BCpPiB8TdZns9OS7t7SJbLTLm%2Burq5nlWGC3t7W1jknuZpJHVViiR3YngGvP/ABR/wUF/ZI8G%2BBtA%2BJGvfFC4XSPElnf3ljNa%2BF9TuJba1sZVhv7m9hhtml06C0ldYrmW7WFLaRgkzRtxWD%2B0RafGj4v%2BDvAfxN8Lfs3%2BKLfV/h98QNK8UTeCNX1bRUvdVgNtdWtzawyRahJai4gS7aUCWeOJ5IVVZcHePAZ/2WP2uPA3hvXvHGg/s8S%2BIdX%2BKXhD4iaXfeFY/EemRHwlda94gm1TTzdyTXKxS24iuWW8a0a4dZYgYY7hW3AA/QJHSRBJG4ZWGVYHII9a%2BcvhN4q/bv8Ajro%2BveO/C/xv%2BEmgaXb/ABC8VaHpelX/AMH9Uv7iK10vXr/TIWluE8RQLLI8dmrsyxRrucgKABXsGj/DPWNG%2BCOm/CPSPiPquk3uneHrXTIvFGkwWrXkTQxJH58aXcM8JY7M4kjkX5jweteSfsOaPf6J%2Byle%2BHNX8UX%2BtzxfGnxxaXur6kkCXOoZ8eatHJLKLaKKIPICxYRxxpliFVRgAA6P/hB/%2BChf/R0HwZ/8MPq3/wA1FH/CD/8ABQv/AKOg%2BDP/AIYfVv8A5qKfr/7UH/BP3wprt74W8U/tEfBzTdT027ktdR07UPF2lQz2s8bFJIpI3lDI6sCrKwBBBBGRVT/hr/8A4Jwf9HRfBH/wttH/APjtcrx2BTs6sP8AwOP/AMke9DhXimpBThl%2BIaaTTVCu009U01QaaaaaabTTTTaaZY/4Qf8A4KF/9HQfBn/ww%2Brf/NRR/wAIP/wUL/6Og%2BDP/hh9W/8Amop%2BgftQf8E/fFeu2Xhbwt%2B0R8HNS1PUruO107TtP8W6VNPdTyMEjijjSUs7sxCqqgkkgAZNXv2q/iX8Kv2UP2b/ABr%2B0l4p%2BFy6tp/grw9cardabpGiCa4uViXOxFjjYjJxlyNqLl3KqrMNaVehXTdOalbs0/ybPPx2V5nlc4wxuHqUnJXSqQnTbW10pwg2r6XSavpe%2Bhnf8IP/AMFC/wDo6D4M/wDhh9W/%2Baij/hB/%2BChf/R0HwZ/8MPq3/wA1FUNJ/az/AGP9c8by/DXS/DWvy%2BIbbw4uvahov/CmtdW60%2BweO7eKW6jbTw1q0v2G5WKOYJJM8YjjV3dFZ2mftOfsweJpPDv/AAiumWCHWfHU3hW9sPEvhLUdH1Gxvo9GutXMLWVzYCZJTa26zKtwtvG8MnmLKzGKObU4S7/wg/8AwUL/AOjoPgz/AOGH1b/5qKP%2BEH/4KF/9HQfBn/ww%2Brf/ADUVQ%2BCn7X/7C/7QWjTeI/ht4m0v%2BzovD%2Bn66l/4i8I3eiwXOl3zMtrewSajbQLc28jqUEsRdQ%2BEJDECrv7RvxEb4V6/4P8Ahp8IPgB4a8XeM/G17eJpWl61qq6RYwWtnatcXNzPdJZ3ToB%2B5iVVhctJcR52IHdQB3/CD/8ABQv/AKOg%2BDP/AIYfVv8A5qKP%2BEH/AOChf/R0HwZ/8MPq3/zUVz2v/tSfC2D9i3w1%2B1/4T%2BClleDxePDtvo3h3VDBZ%2BRf6xf2mnwQXdyI5Ft44rm8RZpVWTaschRZDtVuKtf23F8RX1l8LPBP7M3gK8%2BJSeLvEGgeItGvvHK22hadPo9rb3dzs1Qaa8k7NBeWjpGbSNvmm8zyhA5oA9W/4Qf/AIKF/wDR0HwZ/wDDD6t/81FH/CD/APBQv/o6D4M/%2BGH1b/5qK8C17/gqh8FH1z4aDwF8CvC19pfxJ8HeFPEWiQa74lg07WtZh1y8a2W20WwFpMur3FmFEt2gnhEKSxHcwfI9Y8R/HfxD8NfjpH8K/ip%2Byf4dTTtc0jxDqXgu78Ia%2BNV1TUINJETt9p097CAWxmjmj2eXPcASSRxOVaRcgHS/8IP/AMFC/wDo6D4M/wDhh9W/%2Baij/hB/%2BChf/R0HwZ/8MPq3/wA1FcJ%2BwL%2B2H4C/bgbxEln8I/AcEWg6To9%2BdV8EeK4vEOnh79LljptxP9itjb6nbC3Vrm02v5S3Vud58zA%2BjPBg2aGYFJ2Q313FECc7US5kVV%2BgUAD2FAHl3/CD/wDBQv8A6Og%2BDP8A4YfVv/moo/4Qf/goX/0dB8Gf/DD6t/8ANRXs1FAHjP8Awg//AAUL/wCjoPgz/wCGH1b/AOaij/hB/wDgoX/0dB8Gf/DD6t/81FezUUAeM/8ACD/8FC/%2BjoPgz/4YfVv/AJqKP%2BEH/wCChf8A0dB8Gf8Aww%2Brf/NRXs1FAHjP/CD/APBQv/o6D4M/%2BGH1b/5qKP8AhB/%2BChf/AEdB8Gf/AAw%2Brf8AzUV7NRQB4z/wg/8AwUL/AOjoPgz/AOGH1b/5qKP%2BEH/4KF/9HQfBn/ww%2Brf/ADUV7NRQB4z/AMIP/wAFC/8Ao6D4M/8Ahh9W/wDmoo/4Qf8A4KF/9HQfBn/ww%2Brf/NRXs1FAHjP/AAg//BQv/o6D4M/%2BGH1b/wCaij/hB/8AgoX/ANHQfBn/AMMPq3/zUV7NRQB4z/wg/wDwUL/6Og%2BDP/hh9W/%2Baij/AIQf/goX/wBHQfBn/wAMPq3/AM1FezUUAeM/8IP/AMFC/wDo6D4M/wDhh9W/%2Baij/hB/%2BChf/R0HwZ/8MPq3/wA1Feo%2BJvHfgfwVB9q8ZeMtK0mPGfM1PUYrdceuXYV5R4//AOCkX7BPwyjZ/Fv7XHgRXTO%2B307xBFfTL9Y7YyOPyrnrYvCYdXq1Ix9ZJfm0evlvD%2Bf5zJRy/B1azf8Az7pVJ/8ApFOS/FE3/CD/APBQv/o6D4M/%2BGH1b/5qKP8AhB/%2BChf/AEdB8Gf/AAw%2Brf8AzUV5if8AgtV%2Bw5qTE%2BBtR8b%2BKYs4jn8P/D3UpUk/3S8SZoP/AAVn0TXv3Pwx/YU/aM8TSH7s1p8M2htwf9qWWUbfyrh/t3J38NaL9Ly/9JjI%2Bp/4hV4jR/i5ZVp/9fPZ0revta1K3z%2B49O/4Qf8A4KF/9HQfBn/ww%2Brf/NRR/wAIP/wUL/6Og%2BDP/hh9W/8AmorzH/huz9vHXhu8Bf8ABJLxjcK3%2BrPiH4haZpRI/wBoSK22gftLf8Far757b/gmb4ZsQeiXvxmspSvsTHHg/hR/bODfwxqP0pVP/kUH/ENOIofxq2Ep%2BUsdg0/uVebPTv8AhB/%2BChf/AEdB8Gf/AAw%2Brf8AzUVb/ZW%2BI3xp8Yax8UPAnx01/wAL6tqngH4hRaHZ6r4T8NXOk291ay6Do%2Bpqz29xe3jLIsmoyoWEu0rGh2qc58n/AOF3f8Fhbv8A49/2Hvhpaf8AX18S/Mx/3wldB/wTs1b4y65rnx51T9oLwlo%2BheL5fjNB/a%2BlaBftdWkGPCPhsReXKwBbMIjY%2BjMw7V0YbH08VNxjCa0veUJRX3vr5Hj53wnjMiwqr1sThqib5eWjiaVaS0bu409VHTWV7XaXU%2Bk6KKK7j5cKKKKACiiigAooooAKKKKACiiigAooooAKKKKACiiigAooooAKKKKACvl/9oHWP7M/4Ky/s1WW/H9ofC/4mW%2BPXEvheXH/AJC/SvqCvjb9sPVzpf8AwWN/YyhLYS98M/FC3Y5/6cNGcD80Fc2Mn7OjzecfxlFfqe5w7h/reZ%2By/wCndZ/%2BA0K0v/bT7JooorpPDCiiigAooooAKKKKACiiigAooooAK4nxX8IvhP8AGiDV/C3xi%2BGHh3xZplv4giuoNO8TaLBfwRzrZQosqxzoyhwruoYDIDsM4Jrtq8n%2BO/7VvwC/Y%2B8Naj8S/wBovx7/AMI7ol94rh0y1vf7LurvfdPp6SrHstYpHGUhlO4qF%2BXGckA44ieHp0JSrtKCWvNa1vO%2BlvUax8sqf1uNZ0nT151Jwcel1JSi477qS331E/4YH/YV/wCjLPhL/wCG50z/AOMUf8MD/sK/9GWfCX/w3Omf/GK8k/4fm/8ABLL/AKOi/wDLJ1z/AOQqP%2BH5v/BLL/o6L/yydc/%2BQq8X69wr/wA/KH/lP/I0/wCIpYn/AKHs/wDwsq//ADQfSXw0%2BEXwn%2BC%2BhS%2BFvg78MPDvhPTLi7a6n07w1osFhBJOyqjStHAiqXKoiliMkIozgCvFf2lf2F/Ffx48XfErU/D/AMZ9N0LR/ir8L7Dwh4l0698ISX1xC1lLqcltd2063sKoM6nIJInik3iJNrxksT6T%2BzR%2B1b8Av2wfAl38S/2dPHv/AAkWiWOryaZdXv8AZd1abLpIopWj2XUUbnCTRHcFK/NjOQQMf4lftl/DD4V%2BLPEvgXxLoOvPrHhyXwxHHp9rawNJq39v376dp7Wm6ZQ4N3FNE5cx7PJdj8gDH2sPPD1KEZUGnBrTlta3lbS3oZvHyzV/W5VnVdTXncnNy6XcnKTltu5PbfQ8q/a%2B/wCCY8v7Vnx6t/jLc/FLw7ZxQy%2BGJrePX/h2msalo8mj6sdQI0m9e7jGmpd5EVxthd3CghxgKNjw7/wTsXQdd1XWz8XxN/aeg/EzTfL/AOEe2%2BV/wl3iKHWd%2BftBz9k8ryNvHn7t%2BYsbDzXx6/4Kx/Dvwd4b%2BPfgb4aaVbx/Ev4R/CXxb4v0nTNb1rSdQtNQOiw/OZodL1Ka6tk86W1zDdLaTOkx2DKSeX3mrft4aD4f%2BI/iT4U6b8OvFfjXxLp/xAufD%2Bl%2BGfCejWcF0YbbRNM1S6uTLeagkMsMS6jCDKzQOzzxwpA7KJJdhHqnwZ%2BH3iP4WeBNI%2BHep%2BKbLVLDQfD%2BnaZpskGkvbTH7PbLDJJKxnkV97IGVVVNgO0mT71eOfB39hXxz8H/ABrZ%2BILL46aZqGmeCtC8Rab8ItGuvBjqNCGrXcVyzahIt8DqYtxBFbxLGLM%2BR5gdnkYTL2X7EH7SOqftPfsy/Dz4u%2BLNHNnrni3wDpviLUYrHRLy3sIzdITsikmDKGBVswmRpUBUuAGUnzvwT%2B2N8bNe%2BPOgy6tpvhYfDbxj8YvEnw20HT7fTbldas7/AEe01SV9RnumuTDLDLPol/ELdbdGRZbdzK/zqADc8UfsN%2BIPEfx0v/G6/GS2g8D%2BIPiFonjzxT4M/wCEYLXd54g0q0s7e1khv/tQW3tSdN02Z4DbyO0lqSJlErir/wAJf2cP2l/hv8bPi38XNU/aC8C6lD8Rtlxo2mW/wuvbdtGvLe1itLKSaU61ILyJIYh5sSpbtK5LJJAPkrlP2mv2xvjb8K/in4xf4eaZ4Wbwb8JtF8N6n47ttZ025m1HWI9UvriKaOxmjuY47Rra1t/PDSRXAnklEWIQpkPO/Cn9vD4%2BfEb9se%2B/Z8udP8N2WnXHiHxdo%2BnwXHgvU4Vsf7Jcpa3aazJdCw1uSYBJJtPs0juLQSSLKytaykgHUfB7/gnR9k%2BDGj/Cf9qT4qDxhceFvGureJPCOvfDltd8DXOnXGoy3ks4Z7LWpZZT/p91ED5qr5Um0ox3O3D2v/BH2Dwv%2Bzr4Q%2BAfgH47W8MunfAL/hUfjfxF4l8Kz6zc6zojhTLLZfaNQ3abMJWuGhRnubeFJY4hAyW8Srv/AAz/AG8vinaW/wAT/DXxF03TfFHiDwlq2kaP4KTTvA2p%2BEJ/EesaisyxWP8AZmq3FxdRwrJEr/2iGNs8LTyJlbSZq4yb/goB%2B1SPgz8GPiV4o1bwf4T07xV4P8S6l8TPHcfwZ8Q%2BJNF0e8069sLe3Qx2OoRtpltLHNezNcXczRqtocsoDGgD3vxZ%2By98TPiF8b/BvjXxt8XtAfwd8PvE/wDb3hfQNM8Eyw6wbsabcWCrdapJfyrNFsupmYR2sLviNWcqHEnmfw4/4JMfD/RdN0n4d/FTxzFrngXwd4Hk8I%2BAfD3hfTbvw3e2OmHVtP1SNrzUbO/867uop9KsvLnh%2BygYuCyMbh66n4sfto%2BM9L/bD%2BF3wH%2BD%2BjaHqnhPWvGDaD8RfEd2JJXtrq48O6prNlZ2LRyKnniLT455zIHCw3lsFUmffH4n4e/4Kafta%2BKNM%2BKieFvhxoOr%2BINA%2BEPjvxP4O8LQeANYgkTWNFu1trDTobl7po/FcVwz/vZtLEawOkcTFXuogAD234P/ALD/AMTf2Xvh/wCIfBn7M/7QlvDN4m8far4g1G7%2BJ%2Bl6z4tQQXjs6WqC41uKUSR5G6cykTHczxl23Cnrn7Afj69%2BAHg79kTSPj1o8Xw10DQNE03W01DwG1xr9%2B2n3KT%2BbbX630dvY7zFGEUWcpgwxjYHZsl8KftjeJrz4HXcmk/ELw746%2BJmo%2BMf%2BEV8NaJbfDjVvCZttWltkuI4NQ0zUrqe9gSC2Ml/NIzIWs0LRoTsMnD%2BKP2vP2zvEX/BP/4LftdfCnxX8MNO8TfE/wAHeC8eD9a%2BH2o6hFfeINe%2Bxrtt5otZt2t7WM3TSMrpM6Q28jl2wcAHsPi79m/46fEH46eH/it4x%2BPHho6Z4F1XVdT8B6RpXw%2Bmt7qC5u9PurCNdQu21KQX1vHFdyMYYorXzJI4XLAxCuf/AGbv2Tf2o/2ffhL4l8K3X7Sfw/8AEfjLxBq0Or3Hju/%2BEd6k2oamZFN1dalD/brfai0KRQwxwSWsdqkMaIpjjSJeNu/2%2BfjJZft7/wDDOt3pGhQeGF%2BIZ8MtbTeEdSDG2/4R3%2B1f7QHiDz/7ON0Zv3Q0fyftnl/vvufNTv2N/wBuv4h/tj/DTUPiD4Z%2BK/g7Sb/xB4Hg8U%2BDfClx8Itee50nT5mDJLJLJexL4jVUZYpG05YUW4Plh23LuAOxtv2CL29%2BAl58FfFvxbt7tvFPxVh8a/EG507wx9ks9WA1OG/n022tftDmztpjbxRPulndkecsXeYsH/tI/wDBNj4L/tDfE7TfjL/wlHi/w94jh8Y6FretXOjePddt7XU49MYeVA1nbahDbRuUG1ZxGXTLMMljnyK0/wCCj/xvvPh5pF14h8XfD3wSl18S9a8NX/xT8eeBtU0zSYIrKxS5gW50W6v4LzS7u5lkaGOG7ulZltzKquLiCMt8O/8ABWW8%2BKd/8PYtF8R%2BHfh3aat8KvDnjbxnfeKPAOs67DCNWu7u0WzElnLbJpUUcun3Ia/vm8sGa3HlE%2BYFAPffA/7O/wAePDX7avjD9p/Xvjf4RvvDnizwlpHh3/hEbT4eXVve2trplzq1zaP/AGg2qyRyS%2BZrFwJT9lVXWOIKsRDMz/B/7KvizwD%2BzL46%2BDvhL4zNaeM/HV54k1O6%2BIi6Hl7bVNVnuJUultfP%2BZbVZYYoozKP3dpEpbiuB8KftifHfxB8b9FkuLHwlH8PPGXxe8TfDXw3ZJpV1/a9jqOj2eqStqNzcm68maCWfRb6IW6QRuiy27%2Bc3zgdJ%2ByB%2B0d8YPij8aPiZ8E/ixe6RqjeBLbSJbfX9O%2BHmqeE2uZruS/SaAadqlzcTzQR/Y43j1CNzbXP2iRIiWtpTQB6jpHw48JfB39n%2B2%2BEfgHTBZaF4W8HJpGi2a9ILS2tRDCn4Iij8K4rxx/ykL%2BF/wD2Rnx5/wCnbwhXqXjn/kSdY/7BVx/6LavLfHH/ACkL%2BF//AGRnx5/6dvCFAHs1FFFABRRRQAUUUUAFeC/sf/8AJvWr/wDZe/HP/qwNVr3qvBf2P/8Ak3rV/wDsvfjn/wBWBqtAHWa/%2BxN%2Bxl4r1298U%2BKf2R/hjqWp6ldyXWo6jqHgHTpp7qeRi8kskjwlndmJZmYkkkknJqp/wwP%2Bwr/0ZZ8Jf/Dc6Z/8Yrzvx/8A8FlP%2BCbnwv8AHet/DTx1%2B0d9h1vw7q9zpmsWX/CIaxL9nureVopY98doyPtdGG5WKnGQSOayP%2BH5v/BLL/o6L/yydc/%2BQq8GeN4YU2pTo3u739ne/W%2Bm973NP%2BIm4mh%2B6WeTjy6W%2Bt1Va2lrfWFa1rWsrWtZWsvZtA/Ym/Yy8Ka7ZeKfC37I/wAMdN1PTbuO607UdP8AAOnQz2s8bB45Y5EhDI6sAyspBBAIORWt%2B018E7L9pP8AZ08d/s96hr8ukw%2BN/COoaG%2BqwQCV7P7VbvCJghIDlC4baSA23GRnNeNeAf8Agsp/wTc%2BKHjvRfhp4F/aO%2B3a34i1e20zR7L/AIRDWIvtF1cSrFFHvktFRNzuo3MwUZySBzXuPx1%2BMPhz9n34PeI/jf4y0zUbrRvCulS6nrKaVCkk8VnEN08wV3QMscYeVhnO2NtoZsKfQwNbLa0JPByg0nryctr%2BfKlrbuTLiSpxJ%2B9njXieTS7qyq8t9bXlUqWvvZNX3t1PI/EX7E3xC8f6D8XZfHvx9tYvEnxb%2BHem%2BGb7WvCfhWbTYdNksxqIW5iikvp5GRxfgNEZgcRNiQeYNnDfBH/glNF8IvEUPiaH4k%2BELDb8XB45fQfAXwvj0DSIGHhG88OGztrVLyUwhvtQu2lZ5GZ0ZSPnDp6L8Z/%2BCiHwd%2BC2l%2BLtc1Tw3qeoWPgrxbZ%2BG9Y1EeINB0q0e/uNNi1EJDcavqVnDJsgngDAPv3zBUV9khTkbX/go7pPinx9Hf8Agm4tLjwFrngz4Sa74R1WLQpJ7y6/4TDxBq2mlZke7hWOMRWdmVYAvA0kzslzhYK7iTq/gb%2BxR4h%2BAUfgS78I/Fyyub/wN8DdK%2BHVvLqHhd2hu/sckDG%2BaNLtWXesLAQhzsLg%2BY23a3WftG/ALxx8VPEHg/4mfB/4n6d4R8Z%2BCb28fStU1rw0%2Br2M9reWrW9zbT2qXVq7g/uZVZZkKyW8ed6F0bzDwb/wUaPxM/aK8H%2BCPCHwf8TWXgHxH4K8Wa/aeLNU0JZ28Qw6TcadDHPpcdlczTmN/tUreVPbpPMGgaFCCc%2Bk/tSfGj4gfD3RvAvhb4OJpEPij4k%2BN7fw7oWoeJ9LnuLLTc2V5qE9zPaxzW8s221sLgLEJYiZGQFlGaAKfh39ljWPAX7Ltr%2Byt4M8U%2BF9Q0PTPA9hoVj/AMJ34JbWI7yePcLu51CBbyCO7juE25gQQ7HMjb3V1RPO7P8A4JrxeG/2eX%2BC/hG9%2BEj3mreMpvEniOfxN8D4dR0ZLt4Et4jpmki/ij0428ENtFAXkuNqQfOJWdnPQ6V%2B118U3/YJ8a/tHv8ADuy1jxx4F/4SvTL7RNHhuBZ6hqeh6lfabLNDGDJOtvLJZGcRAySrG%2BzLuMnk/gj%2B2Z8R/j14P%2BJmj%2BCv2mvhBdX/AMMNQsrvUPilpfga9vvDOo6PPp5umaO2TWVZJYZEnjeRb2aMeQcqHZo4gBmtf8Es1stHtPhj8MPjfHpPgOfwT4S8LeIdI1rwt/aOqSWfh%2B5kntpLG/F1CtjNKZWMjvBcASfvY1jckno9I/Yk%2BNWo/GH4q/EH4q/tHaDrun/EzS7/AES2k0/wFdWGueGtDkjkjtNNsdQ/tWWGJYTIZnkW0VricmRtuI1j4Txn%2B07/AMFAtM/4J5eCP2qdP8Q/C3SvHfijRdMEHg3V/hlqc8epavrN7Db6RZrs1yN7L/j7tUuAxuSjCZwQq7a6i3/bq1jWv22Nb/Z3/wCFi%2BGPDmjeDvFWmeF9Ui1X4faveS6/qt3pVrqQSHVYriOw0ksl7DFDBcCeaeSKUKAChYA7X9lX9krxr8C/G2q/Ej4mfFfRfEusXngnQfCVknhnwWdBs7fTNJa9e3MkBu7oy3DNfS7pA6RqqoscUY3b/XvB/wDyCZv%2Bwrff%2BlctalZfg/8A5BM3/YVvv/SuWgDUooooAKKKKACimXFxb2kD3V1OkUUalpJJGCqoHUknoK8R%2BLf/AAUr/YN%2BB7SQfET9qbwlFcQ5Etjpeof2jcoR2aG0Esin2KisK%2BKw2FhzVpxiu7aX5tHq5VkWd59X9hlmFqV59qdOdR/NQjK3zse40V8j/wDD2PTfiD/o/wCy3%2Bxh8ZviQ0n/AB7arb%2BEzpmlP6Zu7ojZn3TpQPHf/BZn4v8AzeGPgb8IvhFYy/ePi/xHca7qESnugsgIS3swxXB/bWDn/AUqn%2BCEmv8AwJqMf/Jj6z/iGfEuG1zSdDBL/qIxFGnL/wAFRlWrfL2SfSyPrisTxp8Svhz8N7Ial8RPH%2BiaBbEEi41rVYbVCB1O6VlFfMR/YE/bL%2BKf/Jyf/BUHx1Lay/63SPhholp4bVB3jFxGHkdfdhkg1ueCf%2BCPX/BP7wnenXNf%2BCZ8YavIQbnWfHOs3Wqz3BHd1mkMR/BBR9azWt/Cw6iu9SaX/ksFJ/8Akwf2DwBl3%2B/ZxKvL%2BXC4ecl/4NxMqEPmqb%2BaNTx5/wAFZf8AgnJ8OHePxB%2B1v4VuGj%2B8NBml1TP0%2BxJLn8K5L/h8Z%2Bz94i4%2BDPwK%2BNXxE3f6lvBvwxupVk98zmLA98V9D%2BAvgB8CPhWiR/DH4K%2BEvDix/cGheHLa02/9%2BkWuuo9jnVT4q0I/4abf4zn%2Bgv7S8McJ/By3E133q4qFNP1jh8O2vlUZ8lf8N5ftxeNDt%2BD3/BKDxvMr/cn8ceMtP0LYP7zRy72OP7oOaB4s/wCC13jc7tF%2BE3wC8Dwv1XxHrup6lcRj2NoBGT9eK%2BtaKP7NxM/4uKqP05If%2Bkwb/EP9dcmw3%2B5ZDg4edRYjEP5%2B1xEY/wDki9D5Jb9mb/gq38QD5fxC/wCCi/hzwnat/rrTwD8MoJXcf3Vnu33x/wC8Bmgf8El9B8Wfv/jn%2B218fPGzv/r7O9%2BILWti3qFt4I12A%2Bgavraij%2BxMBL%2BKpT/xznL8OZL8B/8AET%2BLqOmBlRwq/wCnGGw1J/8AgSozqfP2l/M%2BX/DH/BGf/gm14Zn%2B2n9mq01S6Y7pbvXtcv755W9WE07L%2BQAr1fwD%2Bxt%2ByT8LZVufh1%2BzL4C0adMbbqw8J2kc3HrII95/E16TRXRRyzLcO70qEI%2BkY/5X/E8fMuOeNs4i447NMRVT6Sr1WvS3tFG3ly28hERI0EcaBVUYVVGABS0UV3HywUUUUAFeM/sv/wDJb/2jv%2ByzWP8A6hXhevZq8Z/Zf/5Lf%2B0d/wBlmsf/AFCvC9AHs1FFFABRRRQAUUUUAFFFFABRRRQAUUUUAFFFFABRRRQAUUUUAFFFFABRXLfG3wRY/Eb4Ua74N1LX9e0uC7sSXvvDOv3Wl30ewiQeVdWkkc0JJQKWjdWKlhkZr5mf4vfE/Tf%2BCKPw/wDiunxF1aHxDq3wj8F/294zmvmkv7WK%2Bj06HUdUa4kJbzo4J7i4MzEkMm8ngmgD7Cr4T/4KM6n/AGJ/wVm/Yh1PdjNz44tc/wDXeLRYsf8Aj1e4/sUXGraH41%2BNXwbg8Y69r3hvwJ8TLfTfC154l8Q3WrXltDN4f0i/ns3vbySW4uRHc3c7BpZHZBMIs4jVR8mf8FTfiP4lm/4Km/sc2OrfCTxDoNnpPj/U7Sx1/VLnTntNaW4v9AjZ7Zba7lnRV4DfaIoD867Q3zY83N5cmXzl2cf/AEumfa%2BHdD61xhh6P88a6%2B/C4v8AyP0uooor0j4oKKKKACiiigAooooAKKKKACiiigArK8P/APIW1z/sKJ/6SW9atZ974Y0i/u3v5BcxSyACR7W/mg34GAWEbqGIHGTzigDQorL/AOEP0n/n71X/AMHl3/8AHaP%2BEP0n/n71X/weXf8A8doA1K8p%2BKv7Hnwq%2BMH7Rvw9/ac8UX%2Bsxa58ORef2fp9jdxpYaoZoysRvomjZp/szNJLBtdPLkkZvm4x6F/wh%2Bk/8/eq/wDg8u//AI7R/wAIfpP/AD96r/4PLv8A%2BO0AfNWof8EkvghrGl%2BIfDOsfGj4k3Oh638PfGfgzTtCfUtNW20HS/E80U2pfZNliJHmEkKGOa5e4ZeQ5kGAO18VfsE%2BAdZ8far8WfCXxY8b%2BEvFmqeM7nxEfEXh27sDPbNc6TYaVc2UaXVnNEbWWDTbR2V43kWWMOkiEKF9g/4Q/Sf%2BfvVf/B5d/wDx2j/hD9J/5%2B9V/wDB5d//AB2gDk/2cv2ePD/7MXwr8LfBXwH418QX3hvwh4TstB0ix1ua2mby7YMq3MkqQJJJO6lVclvLIjUqisWZuX0D9h74deHfjmvxqs/HviuS3tPEmo%2BJNE8FTXVodG0jXb%2B1ktbzVLdRbC58%2BWK4uwUkneFWvLhliVpCa9U/4Q/Sf%2BfvVf8AweXf/wAdo/4Q/Sf%2BfvVf/B5d/wDx2gDyH4kfsH%2BBPir40s/Gvi34s%2BNWebStE0/xvp9tPp8Vr41j0m7e7sjqSLZ5UrPLMz/YzarKsrRSBogsa19A/wCCf/gPwz4%2B/wCE00j4yePUs7HXfEOveE/DTXmnmw8M6zrX2s32o2Z%2Bx%2Be8pa/vmRLmaeGP7VIEjC7VX2b/AIQ/Sf8An71X/wAHl3/8do/4Q/Sf%2BfvVf/B5d/8Ax2gDyHS/%2BCfnwI1y71/WP2k4H%2BN%2Bp%2BJF0yPUL/4uaDo9%2BqQ6d9s%2BxRRWttY29pEIm1G/YOsIkJvJdzsCAMbQ/wDgmx8MPAH7O%2BnfsqfBP4teMvh74FgstRtNa0XwZZ6Hbf27FeuWnFzJJpkjxvtZ4xLatbyBW%2B%2BWVGX3f/hD9J/5%2B9V/8Hl3/wDHaP8AhD9J/wCfvVf/AAeXf/x2gDxzxl/wTP8A2HvGnxR8D/Ge6/Zu8HWfifwF4ltda03XLLwpp/2y%2BmttOnsLaK7uZIHmnjhSWOWMbwyTWdq4b90Aavw3/wCCengz4UajBqHg/wCPPxEj/sLw1qeg/DyG4udLlj8E2V9cQTzpYBrD98Q1rbKjXxuykcIQfKzhvbf%2BEP0n/n71X/weXf8A8do/4Q/Sf%2BfvVf8AweXf/wAdoA8j0f8A4J6/s2alpWs2/wC0F4Qs/jPqPiDxCmtatrfxb8O6Vqc0l3HaR2UTRwR2cVrbiO2iWNRDDHkF2bczuzO%2BEn7AXwG%2BCnw1%2BCXwi8CJqNv4e%2BA0e/wjpqi1iivrz%2Bzp7A398sMCLNcsl3dzM6CMNPcySspbbt9a/wCEP0n/AJ%2B9V/8AB5d//HaP%2BEP0n/n71X/weXf/AMdoA8lT9hL4dr8az8Wz8SfGLaYfG/8AwmQ%2BH7Xdn/Yo1/7J9l%2B35%2By/bN23955P2n7P5v7zyt1Z3w6/4J8eD/hPGv8AwgHx6%2BIWnzaP4R/4RX4fTrLpLnwPon2m3nNhpyPp5jkjP2S0jLXq3Unl20a7%2BDn2v/hD9J/5%2B9V/8Hl3/wDHaP8AhD9J/wCfvVf/AAeXf/x2gDyjR/2M7nwv4J1nw/4M/an%2BJmj674p8Vv4g8ZeOrM6I%2Bq67dNZQ2ISYTaY9rBGtta2kSC2t4GQWsZDAly%2BN41/4Jr/AfxPoFh4J8N%2BI/FPhTw2ngLTvBHiLw74dvbX7P4l8O2LzNa6bfSXVvNP5afarxfMglhmYXk4aRtwx7h/wh%2Bk/8/eq/wDg8u//AI7R/wAIfpP/AD96r/4PLv8A%2BO0AeS2P7Cfw8034xzfFvT/iV4yigj17U/EOh%2BEku7P%2BytD17ULOW0u9WtR9l%2B0C4eK4u/llmkgVrydliDSE10PwV/ZmtPhJ48134r%2BJfjD4v8feK/EGk2OlXfiHxgdOSWHT7OS5lgtYodNs7S3RBLd3EhbyjI5kAZ2CIF7n/hD9J/5%2B9V/8Hl3/APHaP%2BEP0n/n71X/AMHl3/8AHaAE8c/8iTrH/YLuP/RbV5d44/5SF/C//sjPjz/07eEK9RPgzQ3ws7X0yZBMVxq1zIjezK0hVh7EEV5d44/5SF/C/wD7Iz48/wDTt4QoA9mooooAK534r/FfwD8EfAV78TPibrjafo9g8Ec00VnNcyySzTJBBBFBAjyzzSzSxxRxRo0kkkiIiszAHoq8g/bX%2BG/j74h/CfSL74ZeGW13WPCfj/w74nh8OpdwwPq0Wn6nb3E9tHJO6RLMYUkMXmukZlWMO6KS6gG3ZftW/AS%2B%2BBd1%2B0injpofCFjJPDfXt5pF3b3Ntcw3JtJLSSyliW6S6Fypg%2BytEJjLiMIXIU413%2B3P%2BzZZeBrHx7J4m8QSR6j4gl0O00K28A61NrralFA9xLato8dmdQSRIEadg1uNsW2Q4RlY%2BWeFfgT478T/ALO3xQ8PfGT9n7xnbXfjvxveeONP0Dw5r%2BjLqWl3CX8EmnW8M7Xv2ZdSiNha3pLObQSybPOlAbPkDfsR/tFNpR%2BJ3xI%2BG/xN8YJ4n%2BOl54y8QeH9O%2BIWl6R46sbf/hFLbQbSRdT068sLOB2az3zQ2N1CnkXEcQaVY5UlAPvX4dfEPwV8W/AWj/E/4ceIoNW0DX9Nhv8ASNSts7Lm3lQOjgMARkEZBAIOQQCCK8e/Y/8A%2BTetX/7L145/9WBqta/7LPwY%2BKXgX9iDwR8C/GniiXwl4o0nwbaabcah4VhsHl0lo0CokQltpLSSSNAqM3kNG7BmVcEVk/8ABPfw1Jafsx6j4V8R%2BIb3X5Lf4tfEKC61bVEgS5vnTxprQM8gto4olkYjcfKjjUMflVRgAA96orK/4Q/Sf%2BfvVP8AweXf/wAdpf8AhD9J/wCfvVf/AAeXf/x2gDUqpr2haP4o0O98M%2BItNivNP1G0ktb6zuE3RzwyKUeNh3VlJBHoarf8IfpP/P3qv/g8u/8A47R/wh%2Bk/wDP3qv/AIPLv/47QB8/eCf%2BCYPwo%2BGnwj8B/DD4efGr4j6VqHw%2B1vU9U0vxyup6fc63eS36TRXQupLmykgk3RTeUrrCksaQxCN02kmx4G/4JifAP4f%2BGvD3hXRPFvjCS28NeGvh5odg13qVs8j23g3VbvVNLaRvs43SSz3kq3DcB0VBGIWBdvef%2BEP0n/n71X/weXf/AMdo/wCEP0n/AJ%2B9V/8AB5d//HaAPEPht/wTu8C/Cn4iaX8QPCXx1%2BIir4X8N67oXgPQri802Sw8LWeqzW00yWiGx3ymJ7SDyTdPcbFTYdyfLXpHxz%2BAeifHfwbpfhzV/Gmu6Jqmga1a6x4e8WaA9quo6ZqEAZVuYhPBLbsWjkmidJIXjeOaRSmDx0//AAh%2Bk/8AP3qv/g8u/wD47R/wh%2Bk/8/eq/wDg8u//AI7QBxfw2/ZtsPhF8MIfhX8Pfir4qsLVNO1dbjUSbCa8utU1K6a8uNakeW0ZTe/aZbiYAKLYvcyboHAjCczc/sK%2BANd%2BCvxB%2BDvjv4n%2BMvEc3xVbb4/8Xapc2Meqatb%2BRFbG0P2a0itoLc2sX2fy4YIxsllYYlkeU%2Btf8IfpP/P3qv8A4PLv/wCO0f8ACH6T/wA/eq/%2BDy7/APjtAGB8TfgX4P8Aiv4i8C694nvL9IvAHij%2B39J0u0kjS1urxbK5tIvtClCXSIXTyoqsmJY4nOdgFcX4u/Yg%2BHPjD4yT/Fi68d%2BKrSx1HxZpXinxB4JsrizXSNZ13TYreKx1G43WzXXmxLZWPyR3EcTfYYC8bbW3ep/8IfpP/P3qv/g8u/8A47R/wh%2Bk/wDP3qv/AIPLv/47QBqVleD/APkEzf8AYUvv/SuWsjx1qHwu%2BGPhq48ZfEjx9/YGkWi5udT1nxZPbW8Q/wBqSSYKPzr5tuP%2BCn9r8Sr2T4ff8E6/2afE3xhurWQwy%2BIo1Ok%2BHLR8/N5l/dKPMYHLbQvz8lXOc1xYrMMHg2o1Z%2B89oq7k/SKvJ/dbzPpci4P4j4khOrgMO3Sh8dWTjTow/wAdao4Uo%2Bjm5PpBn19Xm/x3/bA/Zg/ZktxN8ePjl4d8NSOm%2BKxvr9Tdyr/eS3TdK491Q14S37L/APwUu/aTHmftN/tkWHw00K4/13hD4JWDRXRQ/wALapc5ljcDg7AyEk44xXpPwE/4Jr/sY/s63Z1/wX8F7DUtfkfzLnxV4qY6pqU0p6yefc7jGx7%2BWEB9K5frWZ4n%2BBR5F/NUdn8oRbl/4FKJ739g8DZIr5tmTxNRf8usFHmjftLE14wpf%2BCqNXyZ543/AAVy8D/EQ/Zf2Sf2W/i38WXk4ttU0XwjJY6S3pvu7vZ5YPqY6Y2qf8Fk/j2PL0/wz8L/AIDaTP8Aemv7tvEut24PQosYFmxA6hsc19dgBQFUAADgCin/AGfjK3%2B8YmTXaCVNfeuaf/kyF/rhw5lv/InyWjGS2niZVMXP15ZujQT/AO4M15W0Pke0/wCCRPw2%2BI1wmtftn/tBfEf40X24O9l4h8Ry2GkxuOcw2VoyCIZ/h3ke1e4/CP8AY/8A2WPgMsbfB79nvwh4fmiA23un6DCtycdC05UyMfcsa9HorehleXYaXPTpLm/mavL/AMClzS/E8rNuPOMs7ofV8Xjqjo9KUZezpLyVGkqVJL/tx%2Bbe4UUUV3nyQUUUUAFFFFABRRTJ7iC1ia4uZkjjUZZ5GAAHuTQA%2BiuN8T/tFfs%2B%2BCVZ/Gfx18G6QE%2B%2BdT8T2lvt%2BvmSDFeb%2BKv%2BCon/AATy8HBjq/7YXgWbZ1/srW0vvy%2BzeZn8K5auOwND%2BJVjH1lFf%2B3HFWzLLsN/FrQj6zivzl%2Bh71RXydcf8Fw/%2BCYNvO0C/tKPNsOC9v4M1l1z7MLPB/Coz/wW3/4J%2B6kfK8DeOvFPief/AJ9dA%2BH%2BqySZ9MSW6D9a5P7dyX/oJh/4En%2BVzh/1l4e/6C6b9Jxf5XPrWivkk/8ABVTWPFZ8j4M/8E8f2g/Ejn/V3d54HXTLJ/T9/NLx/wB80D9vD9u7TB9v8T/8EkPGkNg/zQyaV8QNMvbgr6tAihkP%2ByTR/beXP4ZSku6hUa%2B9QD/WLKX8EpSXeNOrJfeqdvzPraivkr/h558Uf9Qf%2BCXn7RPnrxIo8JQ%2BWD7P52GHvR/w8n%2BPdx/x4f8ABLH45N6faLC1i/nIaP7by3%2BZ/wDgFT/5WH%2BsWUdJy/8ABdX/AOVH1rXjP7L/APyW/wDaO/7LNY/%2BoV4XrzD/AIeOftIQ/Nef8Eq/jMq9jD9jkP5B66L/AIJ1/EvXPjBrfx5%2BIviT4Wa94KvdR%2BM0Hn%2BGfE0Kx31l5fhHw3EPMVSQN4QSLg/ddTXRhswwmLm4Um72vrGS/wDSopfidWEzXBY6o6dFttK%2BsJx09ZQivxv5H0nRRRXaeiFFFFABRRRQAUUUUAFFFFABRRRQAUUUUAFFFFABRRRQAUUUUAY3xB%2BHXw%2B%2BLXg6%2B%2BHfxU8CaN4m8P6pGsepaF4g0uK9s7tAwcLLDMrJIAyqwDA8qD1Fc94C/Zd/Zm%2BFfheXwP8ADD9nXwJ4b0WfTZtPn0fQfCNlZ2slpMxaa3aKKJUMTsSWQjaxJJBruqKAMH4a/Cv4YfBjwhb/AA%2B%2BD3w40HwnoFo7taaH4a0eCws4Wdi7lIYFVFLMSxIHJJJ5r4D/AOC3P%2Bg/tU/su%2BLOn9gaxqOobv7u3XvCiZ/8iV%2BjVfnL/wAF6/8AQb/wR4s6f2D4E1zUN393b4r8Dpn/AMiV5Oe6ZNXfaLf3OL/Q/QPCnXxJyqH89aMP/BkatP8A9yH6NUUUV6x%2BfhRRRQAUUUUAFFFFABRRRQAUUUUAFFFFABRRRQAUUUUAFFFFABRRRQAUUUUAFFFFABRRRQAUUUUAFFFFABRRRQAUUUUAFeM%2BOP8AlIX8L/8AsjPjz/07eEK9mrxnxx/ykL%2BF/wD2Rnx5/wCnbwhQB7NRRRQAUUUUAFFFFABXjP7B/wDyRDXP%2ByzfEf8A9TXW69mrxn9g/wD5Ihrn/ZZviP8A%2BprrdAHs1FFFABRRRQAUUUUAFFFFABRSSSRwxtLK4VVBLMxwAB1JNfKfxX/4KWjxb43u/gJ/wT9%2BGj/GHx1bt5eo6pZz%2BX4b0Akkb7y/yEfHXy4jltrKHDDbXJi8bhsFBOrKzeiS1lJ9oxV236L1aWp7%2BQcMZ3xNXnTy%2BlzRguac5NQpUo/zVas3GnTj5yldvSMZytF/SHxJ%2BJ/w7%2BDvg28%2BIXxU8a6b4f0TT4993qerXawwx%2Bg3MeWPQKMljwAScV8oH9rv9r39uy%2BOh/8ABPnwUvgrwEZClz8cPH2kEi6UHBOlafIAbjpxJKNnVWEZAJ2Phz/wTUvfiL4vtPjp/wAFGvimfi14stG87TvDTxGHwtoB/u21kcLOQODJMPnABZNw3V6v8Tf26v2KPgLatZfET9pbwPo7Wcez%2By4tbhluY1UYCrbQlpcDGMBPavMrVMViY8%2BJn9XpduZKb9ZXtBeUeaXeSPpMRmnAfAdPmpSp4/Fr/l7VXLg6b/6d0puEsTJdJ1uSj1jRqK1/M/A//BJX4FXniSD4j/tX%2BOPFPxx8VQtvS/8AiHqbS2Fs3dbfT0IgjjP/ADzcSAV9P6Lomi%2BG9Jt9B8O6Ra2FjaRCO1srK3WKKFB0VEUAKB6AYr5QX/grb4b%2BJUnlfsi/sk/Fv4rwk5TXNL8Ltp2ksvtdXe0gnsCgzT2/bt/b0vgYdA/4JIeMJJ34hGo/EPTLVCx6bmZTtHqe1ThcbkWET%2BrK993GE5X9ZqLcv/AmfAZ74mYziicZY/GVK8YaQjGFR0oLtThTpRowXlTgvVn1tRXyONU/4LT/ABYO6y8K/BT4TWEn3l1G9u9d1OL2HlYtmx3zS/8ADB37cnj/AOb44f8ABVfxqYpPv2Xw88JWOgeUP7qzR73P%2B8Rmuv8AtKtU/g4apLzajBf%2BTSv/AOSngf2viKv8DB1ZeclGmv8AyeV//JfkfW9YPir4q/C/wLZy6j42%2BJGgaNbwDM0%2Bq6xBbpGPVmkYAfjXzOP%2BCLn7IPiI%2Bb8bfE/xO%2BJkx%2B9ceO/iTfzux9Sbd4ea3vDP/BHT/gmj4Su4rzSv2TdDleFsoNTv729Q/wC8txO6sPYg0e2zqe1GEfWo3/6TC33MPrHEU/hw9OP%2BKrJv7oU7fcxPHv8AwWD/AOCd/gTVP%2BEfi/aGtPEWokkR2Xg3TLrVzJj%2B7JaxvEf%2B%2B6wx/wAFcfCWtHf8OP2HP2kfFVv2vtG%2BFb%2BQR/vSzIf0r6W8AfCj4XfCfS/7E%2BFvw30Dw1ZYA%2ByaBo8NnHgdPliVRW/R9XzmprKvGP8Ahp3/ABnL9EH1XP6us8TCHlClf8ak9fuR8lH/AIKe/E%2B%2B/daB/wAEvf2ipJW%2B4uo%2BEYbRD9WaYgUj/tp/8FFvGI%2BxfDL/AIJU6vZvLwmoeM/iPp9lDAP7zxKpdv8AdU5r62oo%2Bo4%2BXxYuXyhTX6SD%2Bzc0n8eOn/27ClH8bSPkhfBX/BaT4mH7Tr3xr%2BCvwyt3/wBVbeGvDl3rNzEv/TRrsiMsP9n5aUfsG/t0eI/33xH/AOCtPjeeRvvDwx4G03SEHsBGW/Ovraij%2Bx8NL%2BJOpP1qT/KLivwD%2BwMJP%2BLUqzf96rU/KLgvwPkr/h1n4t1bnxf/AMFNP2l7nP300z4hR2KN7YSA8e1H/Dn/AOEkv72//av/AGg7u473Vx8V5zIfxEYH6V9a0Uf2HlT3pX9ZTf5zYf6uZI96N/WVR/nUZ8lH/gj38Gbn9zrf7UHx%2B1K2/wCfK%2B%2BK1w0X5KgP606D/giN/wAE6riVbnxd8J9b8RzKcibXvHWrSnPqQtyoP5V9Z0Uf2Hk/WhF%2Bqv8A%2BlOQf6t5B1w0H6py/wDSpSPnvwx/wSi/4JzeEWVtK/ZC8Hylen9p2bXo/H7Qz5/GvSPCv7LP7MfgXb/whP7OfgTR9n3DpfhGyt8fTy4hXeUV1UsvwFD%2BHRhH0jFf%2B2nbRyvLMN/CoQj6Qiv/AG39SO2tbWygW1s7aOGJBhI4kCqo9gOlSUUV1ndsFFFFABRRRQAV4z%2By/wD8lv8A2jv%2ByzWP/qFeF69mrxn9l/8A5Lf%2B0d/2Wax/9QrwvQB7NRRRQAUUUUAFFFFABRRRQAUUUUAFFFFABRRRQAUUUUAFFFFABRRRQAUV5h%2B2n8XvFXwD/ZM%2BIfxj8DR2p1vw/wCFLy60d76Ivbw3QjIillUEFokcq7rkZVWGRnI8y8F/GL4w/CTSP2gvh78QvjnF4oufhV4dg1zQvH3jfTbS1EMVxpMlwY9QXTLeCJo4J7aWQtFCr%2BRMikOy73APpyvz5/4LraP/AG54Umstm7Z8BvF9xj/rl4n8DS5/8cr1b/gm78bf2kvH/jLxl8Pf2lNS8YxX%2BmeEfC2t2GjfEbTNEt9ZiOoLqC3Fyh0NFtG0%2BSW02QJIftkclvci4VA0IPmX/BUrxt4b%2BJvi7xd8P9J0rxDHeeGv2YfiPJfy6r4R1GxtJSuo%2BE5Qba6uYI4L0Dyjlrd5AvG4jcufOzeHtMpxEe8J/wDpMj7Hw7xP1PxByiv/AC4rDv8A8r0v8z7p8Dax/wAJD4K0fX9%2B77dpdvcbvXfGrZ/WtSuB/ZT1j/hIf2Xfhtr%2B/d9u8A6PcbvXfZQtn9a76uyhP2lCE%2B6T%2B9J/qfO5rhvqeaYjD/yVKkf/AAGc4/8AtoUUUVqcAUUUUAFFFFABRRRQAUUUUAFFFFABRRRQAUUUUAFFFFABRRRQAUUUUAFFFFABRRRQAUUUUAFFFFABRRRQAUUUUAFeM%2BOP%2BUhfwv8A%2ByM%2BPP8A07eEK9mrxnxx/wApC/hf/wBkZ8ef%2BnbwhQB7NRRRQAVzvxX%2BK/gH4I%2BAr34mfE3XG0/R7B4I5porOa5lklmmSCCCKCBHlnmlmljijijRpJJJERFZmAPRV5B%2B2v8ADfx98Q/hPpF98MvDLa7rHhPx/wCHfE8Ph1LuGB9Wi0/U7e4nto5J3SJZjCkhi810jMqxh3RSXUA27L9q34CX3wLuv2kU8dND4QsZJ4b69vNIu7e5trmG5NpJaSWUsS3SXQuVMH2VohMZcRhC5CnPk/bU/Z1i%2BGa/FeTxVq62D6%2BdCTSm8GasNbbVNpk%2BwjSPsv8AaBufKBm8n7Pv8kedjy/nryPwr8CfHfif9nb4oeHvjJ%2Bz94ztrvx343vPHGn6B4c1/Rl1LS7hL%2BCTTreGdr37MupRGwtb0lnNoJZNnnSgNnyOH9hH9os29r8evG2k/FXxBfah8fbzxnr/AINs/H2l6Z4tl0yXwhF4di3X%2Bn3VlYw3IltIJ2jtLmCNbaV4VkcoySgH334S8UaX428L6f4v0SK%2Bjs9Ts47m2j1PS7ixuVR1DAS29ykc0DgHmORFdTkMoIIryr9g/wD5Ihrn/ZZviP8A%2BprrdX/2fvAXx8/4ZI8O%2BAPjT8StY0jx4dCEOpeItOnsrzUbF95Me6W4gmtri4SLy45JWidJJFdwDuBrC/4J06Tf6D%2BzdfaJqvie%2B1u5s/i38Q4bjWNTjgS5vnXxnrQM0q28UUIdyNxEcaJknaqjAAB7pRRRQAUUUUAFFFFABXGfHn9oT4N/syfDu7%2BKnxx8e2Ph/RbQYM93J888mCRFDGMvNIcHCICxwTjAJrxn/goJ/wAFKPhz%2BxZoyeDtChs/EXxH1W2Muj%2BGZL5YYLOI8fbb%2BYkC2tlPdiC5GFwNzr8NfA79mz9sj/gp/wDFG3%2BPnjDx9dx6VFMfK%2BKus6W0VrZxbubfwvpkoGwAj/j/AJlD5CuojljYP85mWfewxH1PBQ9rX7LaP%2BL07XVvtNXs/q8Pk%2BUZPgKOZ8R1Jwp1U3Rw9JJ4rFJOzlTjL3KNC65ZYuvy0k1JUo15rlXpn7RP7USftR20PiP9tP4qXHwO%2BA12Vl0X4ZwXD/8ACY/ECEn5HuYLfdNbWb8YRRhgeWIKSr6j8K/2q/i5D4Gtfhd/wTW/4JZeINK8NQIV0/W/Hwh8M6WmR/x8iFi014GwCWDCR%2BSTnNe3/s2f8E6f2VP2XtTbxh4L8BvrPi6dzJfeO/F9ydS1m6lP3pDcS58tj38oID3Fe5VGDyjMuZ1q9blnLdxSlO3bnkrRXaMIJLvJ6ni8RcT8U8UUIYJShgMBTd6eFw/vKL256lWprWrNfFWlCUukPZwSgvju3/4Ju/Gn9pqZNf8A%2BCk37T2peLrR2En/AArDwDLLo/huDv5chQrcXmD0dyjjOMkV7N8K/wBgL9ij4KGKb4afsu%2BCtPuYceVfyaFFcXS49J5w8v8A49Xr1FerQynL6Euf2alP%2BaXvSf8A29K7%2B6y7JHzGHyPK8NP2nslKf88/fm/%2B3pcz%2BS5UuiQiqqqFVQABgADpS0UV6J6wUUUUAFFFFABRRRQAUUUUAFFFFABRRRQAUUUUAFFFFABRRRQAUUUUAFFFFABXjP7L/wDyW/8AaO/7LNY/%2BoV4Xr2avGf2X/8Akt/7R3/ZZrH/ANQrwvQB7NRRRQAUUUUAFFFFABRRRQAUUUUAFFFFABRRRQAUUUUAFFFFABRRRQBmeNPBvhX4i%2BDtW%2BH3jrQLXVdE13TZ9P1jS72IPDeWs0bRywyKeGR0ZlI7gmuC8B/sa/s9/Dnw1qnhDQfCuq3en68LoeI4vEPi/VNWbWxcWsVpIt899czPfAW0EUKCcyCKNAkewEg%2BoUUAee/Av9lv4K/s4SaldfCrQNUiu9XtrS21DUde8U6jrN3JbWokFrbC41G4nlS3h86YxwKwjQzSFVBdifD/APgoZo//AAkHxEudBCbje/snfFmAD3abwuo/nX1lXzt%2B0zo//CQ/tYeGNA2bvt37O3xKt9vrvv8AwmuP1rDEw9phqkO8ZL74tfqepkeJ%2Bp53hMR/JVpS/wDAatOX/tp0X/BObV/7c/YH%2BDV9u3bfhpo0BPvFZxxH/wBAr2evm7/gkJrH9uf8E2fhLe7s7PDr2%2Bf%2BuN1NF/7JX0jXPlU/aZXQl3hD/wBJiexx7h/qnHebUP5cViF/5Xq/5hRRRXefJhRRRQAUUUUAFFFFABRRRQAUUUUAFFFFABRRRQAUUUUAFFFFABRRRQAUUUUAFFFFABRRRQAUUUUAFFFFABRRRQAV4z44/wCUhfwv/wCyM%2BPP/Tt4Qr2avGfHH/KQv4X/APZGfHn/AKdvCFAHs1FFFABRRRQAUUUUAFeM/sH/APJENc/7LN8R/wD1Ndbr2avGf2D/APkiGuf9lm%2BI/wD6mut0AezUUUUAFFFc58XPiz8PvgV8NtZ%2BLnxU8SQaR4f0Gya61K/uCcIg4AAHLuzEKqAFmZgoBJAqZzhTg5SdktW30RFSpClBzm7JK7b0SS1bZ0dfGH7aX/BUO/0jxLN%2Byr/wT58Ln4o/GK9V4pRokYudP8NqCFae5lz5RkVmA2MwRG/1rLgI/wAz/HD9rv8Abj/4KvfGiD9kT9lzSL/4a%2BCNQt0uvEN3cMV1JNIkAIutReM/6KkqEeVZo2%2BUNl2MbqT%2BiH7H37GXwM/Yi%2BFMHwt%2BCnhpIAyo%2Bs61cIrXur3CgjzriQDLHltqDCIGIUAV81HMcVns50sC3CktJVWtW%2Bqpp9e85bdFfbrngs8weGw%2BPlCNGNVKdJVY81SpB/DV9jKyjSlvSlXt7ZLnhRlS9%2Bp8lfsY/wDBESzs/FEv7RH/AAUP8Xn4j%2BOtWvRqN3oFxcNPp0NwejXTNzfSKOApAhQblCuMNX6EWlpa2FrFY2NtHDBDGscMMSBUjQDAVQOAABgAVJRXr5dleCyqj7PDxtfdvWUn3k3q3/VjmqOtiMXUxeJqSq1qlnOpN8052VleTtpFJRjGKjCEUowhCKUQooor0BhRRRQAUUUUAFFFFABRRRQAUUUUAFFFFABRRRQAUUUUAFFFFABRRRQAUUUUAFFFFABRRRQAV4z%2By/8A8lv/AGjv%2ByzWP/qFeF69mrxn9l//AJLf%2B0d/2Wax/wDUK8L0AezUUUUAFFFFABRRRQAUUUUAFFFFABRRRQAUUUUAFFFFABRRRQAUUUUAFFcd%2B0H8ZtC/Z3%2BB3iz45%2BJNMur6z8KaBc6lJp9jt8%2B8aKMslvFuIXzJGCxruIG5xkgZNcP8L/2tNTuNF%2BJUf7SHgDTvA%2BufCm2jv/FdpoviKTWbE6ZJY/bY7yC5a1tpJBtSeNkaBGWS2kA3qUdgD2mvF/H8Mdx/wUF%2BGVvMu5H%2BC/j1WU9wdW8IA079jL9qjVv2r/CWo%2BN7nR/AljaQPbi2svCPxLj8Q3tk0iGRrXVI4rWKOwvI1MYeBJbhQzMBIQoZjxx/ykL%2BF/8A2Rnx5/6dvCFAJtO6PNP%2BCIc0sf8AwTZ8DaDcOWl0fUdcsZSeuU1e8I/RhX1jXyX/AMEbf9B/Zo8WeE%2Bn9g/GLxPp%2B3%2B7tvN%2BP/IlfWleVkX/ACJsOu0Evuuv0Pv/ABWSfiXnE19vEVJ/%2BDOWp/7kCiiivVPgAooooAKKKKACiiigAooooAKKKKACiiigAooooAKKKKACiiigAooooAKKKKACiiigAooooAKKKKACiiigAooooAK8Z8cf8pC/hf8A9kZ8ef8Ap28IV7NXjPjj/lIX8L/%2ByM%2BPP/Tt4QoA9mooooAK4748fGzw1%2Bz98OpfiJ4m0jU9U3alY6Zpmi6JDHJe6pqF7dRWlpaQLLJHH5kk80a7pHSNAS7uiKzDsa8v/a3%2BDfjP4z/DCwsfhreaZF4m8NeMNF8S6BHrc8kVldXGn38NybWeSKOR4kmjSSHzVjkMRkEgSTZsYAzYf22Phkv7O%2Bq/tC6t4T8S6euia%2B3h/VfB91Z27axBrf8AaCadHpmyKd4GmlupYY43WYwOJ45BL5bb6par%2B3l8LfC/wG8a/HDxz4K8U6HdfD/Vzo3iXwLeW9nNrcWrNDbT22nxrbXMttLNcRXtlJEUuDGVuo2d0Acpzng79mD4rr8CfiL4H%2BLnwz8BeJ9T%2BI2uah4m1XRR4zv7fT01Ge4TyLFLpNP8%2BKOC3t7QrqCRib7QjSLbxYXHmuhf8EnPE1/8MPEV3ffG7X/A3jTX/Ger%2BKo7Pwn4kTX7G3vrrQbbQ4o7i%2B8Q6fdXN%2By2lqS120cU%2B69uQm1SigA%2BwPhl4%2B0f4rfDbw98UfDttcw6f4k0O01WxhvUVZo4biFJkWQKzKHCuAQGIznBPWvNf2D/APkiGuf9lm%2BI/wD6mut1rfA39n3U/BH7IvhH9mv4oeO9Y1i80fwbY6PrGuaXrUmm3UskMKIxgudOW0kiVSu1HjETlFXdlixPN/8ABOnw9YeEv2br7wtpVxfS22nfFv4h21vLqeqT3ty6J4z1pQZbi4d5p3IHMkjs7HJZiSTQB7pRRRQAy5ubaytpLy8uEihiQvLLK4VUUDJYk8AAc5r8if2zv2qfiX/wVC/ah0P9nH9l/Tk1TwnpuqOfClvcpmz1i7hYxz%2BIL5SCDp1qdywowKzSA5EnzQj0b/gr7%2B3lr3xKk1b9jT9nS6urrTbfUINI8faro7EzavqdwxW38NWbL96SQgm4ZfuRo6csGif6e/4JpfsA%2BHv2JPhILrxFFbX3xD8SW0MvjDWYkG2HagEen22PuW0AwigfeK7uBtVfjcwrVuIcc8uwztRhrVmuuvwR%2Ba9LpvVR19/h7Lsunhf9Ys2pqpg6U3ChRl8OMxNOzlzrS%2BDwsnF1%2BmIrcmFT5ViGu8/Y6/ZC%2BHf7HHwqHgPwhPPqer6jcG%2B8XeK9RO6917UX5kuZnJJ5YnamSFB6klmb1miivraFCjhqMaVKNoxVkl/X/Bbu3qzgzXNcxzvMauPx9R1K1VuUpPdt/ckkkkkkoxioxilGKSKKKK1PPCiiigAooooAKKKKACiiigAooooAKKKKACiiigAooooAKKKKACiiigAooooAKKKKACiiigAooooAK8Z/Zf8A%2BS3/ALR3/ZZrH/1CvC9ezV4z%2By//AMlv/aO/7LNY/wDqFeF6APZqKKKACiiigAooooAKKKKACiiigAooooAKKKKACiiigAooooAKKKKAOO/aE%2BDOh/tE/A3xZ8DPEmqXVhZ%2BK9AudNk1Cx2%2BfZtLGVS4j3Ar5kbFZF3AjcgyCMivNvAn7H3jeS3%2BIMn7QHxa0Txfd/FawfTfHcmj%2BDptJik09NPWytrWzja/uDbBVa6lkaRpzJJdNt8pVVB71RQB4V%2ByX%2Bx94n/Z58V6h438dfFPSfEmoy%2BBtA8HaWmgeDv7EtrfSNIa8a1M0X2q48%2B6Y30u%2BVWjiCqixwxDduzb/wCEfwo8Df8ABTbwX498E/DHw9o%2Bu%2BJ/g944l8S61pWiwW93qzx6t4S8trmaNA85Xe%2BC5YjccdTX0PXjPjj/AJSF/C//ALIz48/9O3hCgDzH/glF/wAS1/2jPCbcf2b%2B094pMK/3YZPszp/WvrSvkv8A4J1/8Sn9p39qvwn08n4vRaht9PtVkj5/HbX1pXk5JplkI9nNfdUqH6B4o%2B9xviKv/PyGHn/4HhMI/wBGFFFFesfn4UUUUAFFFFABRRRQAUUUUAFFFFABRRRQAUUUUAFFFFABRRRQAUUUUAFFFFABRRRQAUUUUAFFFFABRRRQAUUUUAFeM%2BOP%2BUhfwv8A%2ByM%2BPP8A07eEK9mrxnxx/wApC/hf/wBkZ8ef%2BnbwhQB7NRRRQAUUUUAFFFFABXjP7B//ACRDXP8Ass3xH/8AU11uvZq8Z/YP/wCSIa5/2Wb4j/8Aqa63QB7NXzf/AMFOv2ptd/Zz%2BASeFfhdfxJ8RPiHeHQPA6yTiMWssi/v9QdjxHFbREytIflRvL3cE19GzzwWsD3NzMkccaFpJJGAVVAySSegA71%2BP/xg8W%2BL/wDgp7%2B2Rb2/gfULiHT/ABzPdeFvh/cIvOkeCrSUrrevAHhXvZFktYmONyCeFuQhr5/iLMJ4PB%2Byo/xavuxtvro2vPVJPvK/2WdGW5NiOJ86w%2BSUKvsnX5nUq9KGHpx58TXf/Xukpcv81WdKC1kkez/8Eiv2RvDXjzxBp37U1zo8n/CCeCY7jS/g9BfwFZdZu3ITUvFFwrcma5lQrHuyUjRU/wCWMbH9HKyvA/grwx8N/Bmk/D3wTpEWn6PoenQ2Gl2MAwkFvEgSNB9FUCtWu7Kcup5Xgo0Y77yfd/5LaK6JLq3f2%2BJ86w2cY6EMFS9jg8PCNHDUulKhTuoR85y1qVZ7zq1Kkm37tiiiivSPnAooooAKKKKACiiigAooooAKKKKACiiigAooooAKKKKACiiigAooooAKKKKACiiigAooooAKKKKACiiigArxn9l//kt/7R3/AGWax/8AUK8L17NXjP7L/wDyW/8AaO/7LNY/%2BoV4XoA9mooooAKKKKACiiigAooooAKKKKACiiigAooooAKKKKACiiigAooooAKK534ufFLwb8D/AIW%2BIvjH8Q797XQvC2i3OqatPFC0si28ETSPsRctI5CkKigszEAAkiud%2BAH7Rmk/Hg%2BIdIuPhx4m8GeIvCuoQ2niDwn4vjsxfWnn20dzBLusrm5gkikikBVo5WwySI2143VQD0SvE/Ht/Zw/8FF/hVp8twqzT/Bbx%2B0MZ6uF1bwfux9Nw4/wNbX7Nf7XXwv/AGq9U8dWPwusNYFv4D8V/wBg3ep6jaxx22qSfZYblbqyZZGaW1ZJ12SsqeZgugaNkkf5l/4KV/Fu%2B%2BBH/BTf9jv4mGV00p18ZaHr7D7iWuozeHrUSSHsiSvC%2BfVVrnxWIjhKDqy2Vr%2BjaV/le5y43FQwWGdeeytf0coxv8ua53H7G/8AxKP%2BCmP7XPhs8I934L1CAf3vN0iXef8AvoAV9aV8l/A3/iTf8Fg/jrpvT%2B2vhv4Y1DH97yQ8Gf1xX1pXDk2mGnHtUqr/AMqN/qfpXiT7%2BeYWt/Pg8DL/AMtKcH%2BNNhRRRXrH5%2BFFFFABRRRQAUUUUAFFFFABRRRQAUUUUAFFFFABRRRQAUUUUAFFFFABRRRQAUUUUAFFFFABRRRQAUUUUAFFFFABXjPjj/lIX8L/APsjPjz/ANO3hCvZq8Z8cf8AKQv4X/8AZGfHn/p28IUAezUUUUAFcd8ePjZ4a/Z%2B%2BHUvxE8TaRqeqbtSsdM0zRdEhjkvdU1C9uorS0tIFlkjj8ySeaNd0jpGgJd3RFZh2NeX/tb/AAb8Z/Gf4YWFj8NbzTIvE3hrxhoviXQI9bnkisrq40%2B/huTazyRRyPEk0aSQ%2BaschiMgkCSbNjAGbD%2B2x8Ml/Z31X9oXVvCfiXT10TX28P6r4PurO3bWINb/ALQTTo9M2RTvA00t1LDHG6zGBxPHIJfLbfUGmftj3niPwlqGreC/2WfiVrfiHQfE0mheLPAlg2hrqmg3a2kN6PtMk2qR2TK9tdWkyGG5lLrdR4GdwXlvB37MHxXX4E/EXwP8XPhn4C8T6n8Rtc1DxNquijxnf2%2BnpqM9wnkWKXSaf58UcFvb2hXUEjE32hGkW3iwuPNrb9hv9sD4Z/ALxT4H%2BBU/hGw1v4tfE86/8UIbz4q62ZrLSP7MtNPax0/XJ9Purye7mi0%2B3El9PCkifaLhohGwhaMA%2Bt/g58WPBnx4%2BEvhn42fDq9muNA8W6Daavo01xbtFI9tcRLLGXjb5kbawyp5ByD0rz39g/8A5Ihrn/ZZviP/AOprrddl4X%2BFum3HwF0r4Pa74Sg8JWcHh62019C8BeKLy2h0mKKNUW3sr63W0uEjjVAiSIsLbVHyr0rz/wD4J0%2BHrDwl%2BzdfeFtKuL6W2074t/EO2t5dT1Se9uXRPGetKDLcXDvNO5A5kkdnY5LMSSaAOB/4LCftBX/wu/ZnX4LeDNeTT/FHxWupNBsrxif%2BJdpgjMmqag%2BORFDah9zDlfNVu1cp/wAEX/2drTSPhpe/tea5oD2N144sbfTPAum3ODJo/hOzAisoSRx5k%2Bz7RKw4kYpIfmZq%2BZP2v/FOu/t8ftfX2meDNRc2XiTxUPhL8NJ4TnyrC3ZbnxPrMY6EBCluHGQ8M7jqlfrR4T8LaD4G8K6Z4K8Laclnpmj6fDY6daRD5YIIkEcaD2CqB%2BFfIZev7Xz%2BpjJa06Xuw7X11/8ASpfOL7H1GTt5PwNWzRaVs1nKlTfVYHCztNrssVjb3f2qeFitYmhRRRX158uFFFFABRRRQAUUUUAFFFFABRRRQAUUUUAFFFFABRRRQAUUUUAFFFFABRRRQAUUUUAFFFFABRRRQAUUUUAFFFFABXjP7L//ACW/9o7/ALLNY/8AqFeF69mrxn9l/wD5Lf8AtHf9lmsf/UK8L0AezUUUUAFFFFABRRRQAUUUUAFFFFABRRRQAUUUUAFFFFABRRRQAUUUUAef/tV/BW6/aM/Zu8bfA7Ttej0q88T%2BHLqx07U5oTLHaXTITBM6AguiyhGZAQWUEZGc15j4F/Zt/aC8YXPxV1347XeieFtS%2BMGkro2pXPw08ZXM1z4YsrfTja20tjc3WmxefdNNcXk5keKJYMwKFn2sx%2BjqKAPnj9iP9i7x3%2ByV8QPifqWu/HbVvFugeK9U0dvCtjqVlpNu1ja2WjWVgA8enaZZRxuDbeUqR7oxBDAdqyGUt4T/AMFQP2Q9D%2BKHxQ1Kz8KXviS48Qa58APHes2cV/4u1K%2Bghv8AT9Y8IXdutlbXFw8NgXaPYRbJEG3jcDgY%2B/a8Y8dKr/8ABQn4YI6gg/Bjx4CCOv8AxNvCFYYrDwxWGnRntJNP5pr%2BvQ5sZhaeNwlTD1PhnFxfzTX63%2BR8vfDz4/jRv2pvgP8At/69JE/hL9oD4X2fgfxBfAYTR/ESSGeIMw42yTLLAPQxuxIAAr9CK/PP9m/9mvQ/i/8As5ftF/8ABK3xLcLZ3Hw88f3Uvge4bIbS7O%2BJ1HSLhcfMNsokZtuMqzL/ABGvpP8A4JzftLa7%2B0p%2BzdZ3XxGga18e%2BD76bwz8RNNmwJbfV7MiOVmA6eYNsvHALso%2B6a%2BfyPEVIT9lV/5eJyX%2BOPuVY/8AgUVNeUn2PvPrE%2BMPDXL87/5icDGGDxKX8sXUWHq27XVahN/zRpN6z195ooor6c%2BMCiiigAooooAKKKKACiiigAooooAKKKKACiiigAooooAKKKKACiiigAooooAKKKKACiiigAooooAKKKKACiiigArxnxx/ykL%2BF/8A2Rnx5/6dvCFezV4z44/5SF/C/wD7Iz48/wDTt4QoA9mooooAKKKKACiiigAr5l%2BD/wARh8H/ANgz4rfFfzvLPhrxv8WdTjfP8cHizX5FA9yVAHua%2Bmq/Oz9sDx%2B/gP8A4I4fFq3tLgR3niH4zeONEs8tgMbn4g6qsg/78ib8q4syxH1TLq1b%2BWMn80nb8bHBmleeFy2tVgryjCTVt27NRS83JxS87HIf8EG/ha/xN163%2BO1/abtA%2BFvgmHwj4R3oQG1W%2BdtS1e4II4lR7kW%2B7nKMB2FfqFXzH/wRw%2BH0Hw7/AOCb/wAM7UWix3Or6XPrF7Ltw08l3cyzq7HufLeNc%2BiqO1fTlefw3hFhMlop7yipP1kk/wAFyr5H33G/Jhc8/silpSy%2BnTwdNLblw0FSk/8AuJWVeq31dTXYKKKK90%2BQCiiigAooooAKKKKACiiigAooooAKKKKACiiigAooooAKKKKACiiigAooooAKKKKACiiigAooooAKKKKACiiigArxn9l//kt/7R3/AGWax/8AUK8L17NXjP7L/wDyW/8AaO/7LNY/%2BoV4XoA9mooooAKKKKACiiigAooooAKKKKACiiigAooooAKKKKACiiigAooooAKKzfGfjHwr8O/B%2BrfEDxzr9rpWiaFps%2Boaxql7KEhs7WGNpJZpGPCoiKzE9gDXI/DD9qD4L/GHwPrvxB8D67qjWPhiWSLxDaat4W1HTdQ090to7rbLYXlvFdIWglilQGL94kiMm4MCQD0CvGfHH/KQv4X/APZGfHn/AKdvCFdZ8Ff2kPhL%2B0A2r23w41TV1vdBlhTWdH8R%2BFdR0TULPzkLwvJZ6jbwTrHIoYpJs2PscKxKMByfjj/lIX8L/wDsjPjz/wBO3hCgDy39rz4S/Hj9nX9oCX/gon%2ByvoLeKJJNDg0z4rfDdYx52uaZbsWS7s2Az9rhU4Cc71UAAnKvwT%2BIPFFv4lu/%2BCqP/BNOaLx94W8bWtuPi58KVQRXl5JaptNxbAZMOoQoxDwkHzMlh5m9c/etfKXxj/YD%2BJfgH4o6v%2B01/wAE8/izB4A8Ya1KLnxR4N1a2M3hnxRMuTvngUbraZsnM8fJJJAVndz83mGW1qcnVoXcW%2Ba0WuaE/wCenfR32nTekle1m2nfD%2BeZrwNmtXGYKjHE4XEJxxGGnrGpCTUpcusWm3GMvdlGcKkY1aUlNSjU9s/Zo/af%2BDf7W3wvtfix8FfFC3%2BnzN5V5aTL5d1p1yAN9tcxZzFKueQeCMMpZSGPoNflj458e%2BDtJ%2BN8vjjxhqGt/scftE3jgX%2Bo30ZufBPjZl53TSgG3lRjkmVtpQsSTK4yPon4b/8ABUq6%2BF9zp3gP/gob8Nv%2BFe6hfFY9I%2BIuhltQ8H%2BIAR8stvex7vI3D5tkhO0csy5wDBcQUJLkxTUWtObVRv8A3k/epy/uzSV/hnJWPuKXDmTcZU54zgmu8RbWeEnpjaHVp03yvEQjrapRi52Sc6MXdn2LRVLw54l8O%2BMNDtfE/hLX7LVNNvYhLZahp10k8Fwh6MkiEqwPqCRV2vo01JXR8NOE6U3Caaadmmmmmt000mmuqaTXVBRRRTJCiiigAooooAKKKKACiiigAooooAKKKKACiiigAooooAKKKKACiiigAooooAKKKKACiiigAooooAK8Z8cf8pC/hf8A9kZ8ef8Ap28IV7NXjPjj/lIX8L/%2ByM%2BPP/Tt4QoA9mooooAK4748fGzw1%2Bz98OpfiJ4m0jU9U3alY6Zpmi6JDHJe6pqF7dRWlpaQLLJHH5kk80a7pHSNAS7uiKzDsa8v/a3%2BDfjP4z/DCwsfhreaZF4m8NeMNF8S6BHrc8kVldXGn38NybWeSKOR4kmjSSHzVjkMRkEgSTZsYAzYf22Phkv7O%2Bq/tC6t4T8S6euia%2B3h/VfB91Z27axBrf8AaCadHpmyKd4GmlupYY43WYwOJ45BL5bb6x7n9v3wfHocNpZfA7x7eeOZPGs3hWX4V2qaSdcttSi01dVkWR21AWCxjT3huvN%2B1lClxCoYyyLGcfwd%2BzB8V1%2BBPxF8D/Fz4Z%2BAvE%2Bp/EbXNQ8Taroo8Z39vp6ajPcJ5Fil0mn%2BfFHBb29oV1BIxN9oRpFt4sLjz74Zf8E%2B/jr8C57L48fDGy8I3PxDk%2BKOpeKdY8J6/wCP9Xu9MktbzQbfRTa/23c2lxfXE6pY2V0bqa2Jkk8%2BPZGjo0YB9X/B74reDvjp8K/D3xj%2BH13NNovibSINR01rmAxSrHKgYJJG3Mci5Kuh5VlZTyDX5N/8FXvHsFj%2BwX4b%2BE0l8YW139pD4p6qdrYLrYeJ9fAX6eZdRfjiv0z%2BAX7NEXwx/ZK8O/s0%2BNfFF7ezWWgrba7q/h3VbvSZJ7t2MtzLbTW0sdxbKZnkKbJA6oQCx5J/Hv8Aat0bR/Hfxo%2BHf7JVg19e6fpnxC8XaXZSanqc99OLrUvifqsISW4uXeaaVrezLNJI7O/JZiSTXzPGFWUMgqwjvNxgv%2B3pL/I9fhrBUs04wyjA1fgq4vDKX%2BCFaNep91PDTb6WvfQ/aL9mjwN/wrH9nLwB8NzD5Z0DwXpenMhHIMNpFGc%2B%2BVrt6OnSivo6VONKlGEdkkvuSX6HFjsXVx%2BNq4qr8VScpv1nKUn%2BMmFFFFWcoUUUUAFFFFABRRRQAUUUUAFFFFABRRRQAUUUUAFFFFABRRRQAUUUUAFFFFABRRRQAUUUUAFFFFABRRRQAUUUUAFeM/sv/wDJb/2jv%2ByzWP8A6hXhevZq8Z/Zf/5Lf%2B0d/wBlmsf/AFCvC9AHs1FFFABRRRQAUUUUAFFFFABRRRQAUUUUAFFFFABRRRQAUUUUAFFFFAHmH7anwh8VfHz9kz4h/B3wK9qNb8QeFLy10eO%2BlKW810YyYopWAJWJ3Co7YOFZjg4weB%2BBMfx40v4nfFT9o3xf%2By94n0a48aW9kuh%2BDp9d0SW8VdK07C/aJIb97dJru4nmhi2SyKqW8bzPDu2r9G0UAfOv7Anh/wCN14/jL4z/ALUXwN8S%2BD/iT4zubKbXhrGo6PcWMFrCkq2mlaadOv7pmtrNXk3SziJ55rqaYIok8qF9/wCC/Enh7/gpt4L8Rat8XPEOu2erfB7xw9hoOq22nJaaKF1bwllLZra0incPuGftEs5%2BQbSvzZ%2Bh68Z8cf8AKQv4X/8AZGfHn/p28IUAezUUUUAY/j34eeAvin4YufBPxL8F6V4g0e7XF1pes2EdzBL9UkBUn0OOK%2BTvHf8AwR88H%2BH7LUo/2O/j14m%2BF9tqm5r/AMF3SJr3ha9LcsJtLvtyNuP%2B0QoPC9q%2ByaK4sXl2Cx2taCbWz2kvSSs/ldryOLEZfg8VVjWnG1SGsZxbhOLWqcZwcZxaeqtLfWx%2BRurfsY/8FUf2IdeufF37OXhKS1gNwZryT4O659r0i8HUvN4e1M5aZun%2BjuqJn5FGBXX/AAl/4OEvE/wy1mL4dft6/s0avoWpxKoutV0LT5rSZMnb%2B906%2B2OpHVjHK45O1eMV%2BodZHjT4f%2BA/iRoz%2BHPiJ4J0jXtPk%2B/Ya1psV1C31SVWU/lXgx4dxeBlzZbipU1/LJKcPu0a%2BVj62pxhxPi6SpZrOnmEUrKWKheuktEljKDo4l2Wi9t9Z6au1jzT9nr9v/8AY6/amhhT4KfH7QNTvpwNuiXF19k1AHuPss4SU4PGQpX0Jr2KvlH4t/8ABE3/AIJwfFt5byT4BReGr6XJW98IalPYeWfVYVY24/79VyFv/wAEv/2vvgXGz/sbf8FQfHulWltbeXp3hv4jWEOvWi%2BiBpMJAvuluSK7oYrPsOrYjDxqedOVn/4BO34SPmcVjJSnelhJR8lWhNfJzhRn/wCBJ6LVtn27RXwJ4g%2BNH/Be39nqIL4r/Zx%2BGXxc0y2XM2qeELiWG7lx38tpYmJPolsea44/8HDGufDXWI/DP7UH7AXjTwVf52yJJqex2I6kR3lvb4%2Bm4/Ws58TZZh3bFKdJ/wB%2BEkvvSlH8TswuCzrGQcqOAxE0tW6dKVay7v2DrtL1gj9LKK%2BJfh5/wXx/Yj8eWH9qXfhn4k6LbL/rrq/8GNcQx465ezknGB616L4S/wCCwf8AwTW8aFV0n9rHQbdm/h1i0u9P2n0P2mGPFddLPclrJOGIhr/eS/Ox49XOMrw%2BIdCvWjTqLeNS9OS9Y1I05L5xR9K0V5x4W/bF/ZI8cbR4O/ai%2BHmqM/3UsPGdjK30KrKSD7EV32la1o%2BuWwvdE1a2vIT0ltZ1kU/ipIr0adehWV6c1L0af5NnZSxGHrq9KcZejT/Jss0UUVqbBRRRQAUUUUAFFFFABRRRQAUUUUAFFFFABRRRQAUUUUAFFFFABRRRQAV4z44/5SF/C/8A7Iz48/8ATt4Qr2avGfHH/KQv4X/9kZ8ef%2BnbwhQB7NRRRQAUUUUAFFFFABX4g/szaBqHxN/4K93mj6innWw/aw8WyaXlf9UuiahrOoTDP/XS%2BRvrX7fV%2BUv/AATZ%2BGkw/wCCr/ip7m2O2x8XfFzxkGb%2BGS88aXmjKPYmOzyB6HNfOcRUHiFhYdPbQv8Aj/kz6/gPDOXE3197YPD42v6SWDq0ab/8GYpWP1aooor6M%2BQCiiigAooooAKKKKACiiigAooooAKKKKACiiigAooooAKKKKACiiigAooooAKKKKACiiigAooooAKKKKACiiigAooooAK8Z/Zf/wCS3/tHf9lmsf8A1CvC9ezV4z%2By/wD8lv8A2jv%2ByzWP/qFeF6APZqKKKACiiigAooooAKKKKACiiigAooooAKKKKACiiigAooooAKKKKACiiigArxnxx/ykL%2BF//ZGfHn/p28IV7NXjPjj/AJSF/C//ALIz48/9O3hCgD2aiiigAooooAKKKKACiiigAqnrvh/QPFOly6J4m0Oz1GynGJrO/tkmikHoyOCD%2BIq5RSaTVmVCc6c1KDaa1TTs16NWa%2BTPnb4m/wDBJ3/gnp8VbltS1r9mHQNLvd%2B%2BO%2B8K%2Bbo8scnXePsTxqWzzyDz1rzHxd/wRj0kBn%2BE/wC2R8SdMGMQ6b40Fn4o06Edgttexfd9ixzX2vRXl1sjyiu25UYpvrFcr/8AJXH8Uz7Sh4j8c0cOsNUx061Jf8u66hiaf/gGJhXS%2BTj6n5teKf8Agkz%2B1DoW42nw4/ZV%2BJkI/wBa%2Bv8Awwfw1eTj1U6SFjVz6k4rgtU/YQj8GXJvfiP/AMEPL0NH97xB8I/jncSMfXZZtOHHqM1%2BsVFedU4Uy6TvBteqhNf%2BTwv/AOTfM5aufcMZi75rw5l1d/zRw7w0/W%2BGqU43/wC4dvI/JXyP2LfAo8vxrZ/t0fBLy%2BHuLm51GK3i90kTz9yj1xXT%2BCfHf7GviQonww/4L7fGHTmPCL458TH5T6N9vtYR%2BdfqHXMeNfgn8GfiUGX4jfCPwxr4cfONb0C3ut3181GzWX%2BrtWl/DlB%2BsZw/GnWS/wDJTD6h4MYr%2BJk2Iwz74fGuSXpGvTX/AKWfIHgz4TftEeLwn/Cjv%2BC9FnrG7/Ug%2BE/D%2BtbvTpNzXYj9nT/grno4zpv/AAUe8HazjodX%2BEFrb7vr5Ehx%2BFdl4y/4JSf8E6PHe/8Atv8AZD8Hwb%2Bv9jWbad%2BX2Ro8fhXG/wDDl39jvQ/%2BSVa58SvAmP8AV/8ACI/EjUIfL/3fOeWj%2BzMwp/Yv/hxFWP4TUl%2BIf6n%2BEOI/gZpj8O%2B06ftEvnRxa/CADwN/wWv0j/kH/HX4Aavjp/avhnU7fd9fIPFH9o/8FydL/wCPrw5%2By/qqj/nyvNfgY/8AfzjNL/w7M%2BMHhnn4Yf8ABUL4%2BWW3/Vr4m1%2B31lV9sSxJke1H/DKf/BU7wv8AN4T/AOCpGn61Gv8Aq7TxP8HdPXHsZoZN7fXFHscbDeniF/hrQl%2BaTD/iG/Cdb/dOKkvKrHGUvzw9dffIT/han/BZzTf%2BP39lT4Naljr/AGd45uoc/TzVo/4aQ/4K4ad/x%2Bf8E2fCWo4/58PjFaQ5%2Bnmx0p8Pf8FuPDH/ACC/iH%2Bzn4nRev8AbOk6xZSuPb7OSoP14o/4XD/wWQ8Of8hn9jr4T%2BJNvX/hHviDLZ7vp9qU4/Gj2lWPxTxUfWEZflGQf8Qmx1T/AHXiHDVP%2B5yjF/dWwtK3zYn/AA2J/wAFQLL/AJCn/BIOV1HWSy%2BOujSZ%2Bi%2BVmj/hu39vK0/5C3/BJDximOv2P4h6Xcf%2BggZpf%2BG1P%2BCjmhceM/8Agkhq%2B1es2gfFvSr7cPUIqAj6Gl/4eY/GHRf%2BR1/4JdfH%2BDb9/wDsLw/b6l%2BXlyrmj63CO%2BMrR/xUv/uIf8Qd4%2Bl/u%2BMhV/wYnLan5VoDf%2BHh37Vtt/yEv%2BCUfxWXHX7LqljN/JhR/wAPKfjtB/x/f8Esvjovr9n0y2l/lIKX/h718MNP/wCRx/ZD/aI8O4%2B9/bXwnmTb9dkr0f8AD6/9g6w/5G3xH4x0DH3v7Y%2BHuqJt%2BuyBqPr%2BHW%2BZW/xQgvzjEP8AiDHi6/4dDET/AMFLD1f/AE1UqX%2BQf8PPfiXD/wAff/BL/wDaLX18nwfDJ/Kaj/h6d4pi/wCPn/gmR%2B08P%2BuXw3R/5XFaOk/8Fpv%2BCY2s4%2ByftU2Eee134f1ODH/f22Wuk0r/AIKof8E7dYx9k/a%2B8Fpnp9q1PyP/AEYFxWkMZTn8OZwfyo//ACSOPEeFHi5hP4uExcfXAy/SDOJ/4eu3Uf8Ax8/8E0f2rl9fL%2BEQf%2BVzR/w9q0dP%2BPr/AIJ6ftTwevnfB5h/K5NesaZ%2B3/8AsLavgWH7ZPwuZj0R/Hmnox/4C0wNb%2BnftV/svaxj%2ByP2kfAN1np9m8YWT5/75lNdMZYifw4%2BL/7cpfpUPHrcFeIGG/iqvH/FgpL84I8J/wCHu3gGP/j8/Yp/aTt/%2Bu3wklGPymNJ/wAPhPgzH/x9/sw/H2A9xN8KbgY/JzX0pp/xb%2BFOrY/sr4m%2BHrnPT7PrUD5/J62rLVNM1Fd%2Bn6jBOMdYZlb%2BRraNDM5fDi4v/uHD9JnlVco4mw/8TEOP%2BLDpfnJHyj/w%2BN/Z7X/XfAn42xn0f4W3f%2BNH/D5D9nPp/wAKV%2BNOew/4Vfd8/rX1rRV/Vs3/AOgmP/gpf/JmH1PPv%2BguP/gmP/yw%2BSv%2BHxXwHf8A49f2efjnOewi%2BFl0SfzYUf8AD3n4dTcab%2Bxn%2B0fek9Ba/CWUk/nKK%2BtaKPqub/8AQSv/AAVH/wCTD6lnr/5jF/4Jh%2Bsz5K/4eu3V38ui/wDBNj9qi4J%2B68vwnESH/gTXNVPgn%2B074p/aQ/4KFeDJPEX7L3xE%2BGyaP8GfGX2Y%2BP8ASUtG1LzdW8K7vJVXbPl%2BUu7OMealfYFeM%2BOP%2BUhfwv8A%2ByM%2BPP8A07eEK1oYbHwqqVXEcy7ckI3%2BabZvhsJmdOsp1sVzxX2fZwjf5pt%2BZ7NRRRXoHqBXHfHj42eGv2fvh1L8RPE2kanqm7UrHTNM0XRIY5L3VNQvbqK0tLSBZZI4/MknmjXdI6RoCXd0RWYdjXl/7W/wb8Z/Gf4YWFj8NbzTIvE3hrxhoviXQI9bnkisrq40%2B/huTazyRRyPEk0aSQ%2BaschiMgkCSbNjAGZ/w258LrX9mzXv2lde8L%2BI9LtvDGp3Gk6/4VvbW3/tay1WG8FmbBljna3MjTtGqSCcwMsqS%2Bb5bb65v/h4x4LltIdGsfgD8Q7jxrJ44vPCknw5QaMupw39rpiarMWuH1JdOaNbKWGXcl2xPmBAPMV0TmtR/ZA/aM8T/sv/ABK%2BFWvS%2BCrbxF8TfEs/ibW4oNcu59Mlkl1CFpNBkLWaSNZS6baxWct4FEjG4ndbZMKp87k/4JlfE3/hCINGvfgJ8DdW8Kj4naj4kT9nPUdTuB4L022uNGt7CNLef%2ByXzIl1FdX%2Bz%2Bz0hMupT4VZEWdgD7K%2BC3xa8H/Hz4QeFvjh8Ppbl9C8YeH7PWdHe8tjDKba5hWaPeh5VtrjI7HuetfB/wDwR/s7nxZ%2B3l%2B1Z41vIjs8LfEHWvD1hIf4ln8U67eygfRiufrX2N8Df2ftY8FfskeFP2bviv491TWr7SPCFnpGs69o2u32n3M8kUSqzQ3cMyXUYBXCyeaJSoG5iSxPzX/wQ/8AhdaeAdB/aP1W1a9dLr9qnxxp1nPqepT3tzLaWWqTRRtLcXDvNO%2B5pd0kjs7EFmYkk152NpurisMuim5P5Qlb8WfZ8MY2GByPOpP4qmHhSX/cTFUOb7402n5M%2B5KKKK9E%2BMCiiigAooooAKKKKACiiigAooooAKKKKACiiigAooooAKKKKACiiigAooooAKKKKACiiigAooooAKKKKACiiigAooooAK8Z/Zf/AOS3/tHf9lmsf/UK8L17NXjP7L//ACW/9o7/ALLNY/8AqFeF6APZqKKKACiiigAooooAKKKKACiiigAooooAKKKKACiiigAooooAKKKKAPHv%2BCg58cj9hz4sH4b/ANp/2x/wgWp/Z/7E3/btn2d/N%2BzeX8/n%2BV5nl7Pn37dvzYr5s%2BEXiX4ead8Mf2nvDX/BOTX/AA1B4d1LwtM/wVsPAt1brYXXiWLw7m8OkpCfLcJK%2BmmUwAqty0u/Eplr70ooA%2BN/%2BCZZ/Z8Pxj8e/wDDFp0j/hU//Ct/BXmf8I5t%2Bw/8JVv1n%2B0vM2cf2j9j/sj7Xu/e7vJ8z95vr0G/1L4r3f8AwU28F2fjbwX4e0/Qrf4PeOB4a1HSvE895d36HVvCXmNc20llCloRhMBJrgNuOSu0bvoevnD9o/V/jXo/7eHwnn%2BB3w/8LeItSb4R%2BO1u7TxX4wudFgjg/tTwkS6S2%2Bn3rO%2B7aNhjUYJO/ICkA%2Bj6K8Z/4Tj/AIKF/wDRr/wZ/wDD8at/8y9H/Ccf8FC/%2BjX/AIM/%2BH41b/5l6APZqK8Z/wCE4/4KF/8ARr/wZ/8AD8at/wDMvR/wnH/BQv8A6Nf%2BDP8A4fjVv/mXoA9mor5x0n9o79u3WPjPr/wOt/2UPhIuqeHfC%2Bka7eXL/HXVPIkg1G51K3hRCPDG4uraXOWBUAB48FiWC9R/wnH/AAUL/wCjX/gz/wCH41b/AOZegD2aivGf%2BE4/4KF/9Gv/AAZ/8Pxq3/zL0f8ACcf8FC/%2BjX/gz/4fjVv/AJl6APZqK8Z/4Tj/AIKF/wDRr/wZ/wDD8at/8y9cv4B/aO/bt%2BInivxv4Q0f9lD4SQ3HgPxRFoWqyXPx11QJPPJpWn6mHi2%2BGCSnk6jCpLBTvRxjADMAfR1FeM/8Jx/wUL/6Nf8Agz/4fjVv/mXo/wCE4/4KF/8ARr/wZ/8AD8at/wDMvQB7NRXjP/Ccf8FC/wDo1/4M/wDh%2BNW/%2BZej/hOP%2BChf/Rr/AMGf/D8at/8AMvQB7NRXzj8Iv2jv27fjL4Uu/F/hz9lD4SW1vZ%2BKNb0KSO9%2BOuqK5n0vVbrTJ3G3www2NNaSMhzkoykhTlR1H/Ccf8FC/wDo1/4M/wDh%2BNW/%2BZegD2aivGf%2BE4/4KF/9Gv8AwZ/8Pxq3/wAy9H/Ccf8ABQv/AKNf%2BDP/AIfjVv8A5l6APZqK8Z/4Tj/goX/0a/8ABn/w/Grf/MvXL/BH9o79u348fBjwh8cfCv7KHwktdL8Z%2BF9P13TbbUPjrqizwwXdtHcRpIE8MMocLIAwVmGQcEjmgD6Oorxn/hOP%2BChf/Rr/AMGf/D8at/8AMvR/wnH/AAUL/wCjX/gz/wCH41b/AOZegD2aivGf%2BE4/4KF/9Gv/AAZ/8Pxq3/zL1y/xu/aO/bt%2BA/wY8X/HHxV%2Byh8JLrS/BnhfUNd1K20/466o080FpbSXEiRh/DCqXKxkKGZRkjJA5oA%2BjqK8Z/4Tj/goX/0a/wDBn/w/Grf/ADL0f8Jx/wAFC/8Ao1/4M/8Ah%2BNW/wDmXoA9W1bwn4V14Ea54Z0%2B9z1%2B12SSZ/76BrmtV/Zs/Z013J1v4BeCrzd1%2B1eFbSTP/fUZrjv%2BE4/4KF/9Gv8AwZ/8Pxq3/wAy9H/Ccf8ABQv/AKNf%2BDP/AIfjVv8A5l6znRo1Piin6pP80zsw%2BY5jhP4FecP8M5x/9JnEv6n%2Bwf8AsQaxk6n%2Bx38LpmPV28A6du/768nNYGo/8Ew/%2BCe2qZ%2B0/seeAlz/AM%2B2gxw/%2BiwKx/i7%2B0d%2B3b8GvClp4v8AEf7KHwkube88UaJoUcdl8ddUZxPqmq2umQOd3hhRsWa7jZznIRWIDHCnqP8AhOP%2BChf/AEa/8Gf/AA/Grf8AzL1zyy7Lp/FRg/8AtyP/AMiexR4z4xw38LM8TH0xFf8A%2BXHJah/wSA/4Jr6nn7T%2ByZ4fXP8Az73N3D/6BMKxr3/giJ/wS%2Bvm3v8AsvRRtnIa38W6xHj/AL5uwK9G/wCE4/4KF/8ARr/wZ/8AD8at/wDMvR/wnH/BQv8A6Nf%2BDP8A4fjVv/mXrCWSZNLfDU//AACP%2BR6tLxO8SaH8POsWvTE1v/ljPMv%2BHJH/AAT0t/8AkD/DbxHp3p9i8fasuP8Avq5NH/DmH9kGD/kFeI/ibYY6Cz%2BJOoDH/fTmvTf%2BE4/4KF/9Gv8AwZ/8Pxq3/wAy9cv4%2B/aO/bt%2BHfivwR4Q1j9lD4STXHjzxRLoWlSW3x11QpBPHpWoamXl3eGAQnk6dMoKhjvdBjBLLH9hZL0w8F6K35NG/wDxFbxMfxZxiH/iqOX/AKVGRzX/AA54%2BA0P/IN/aD%2BOVl6fZfindDH5qaT/AIdF%2BAov%2BQf%2B2r%2B0laegtvi3KMfnCa9O/wCE4/4KF/8ARr/wZ/8AD8at/wDMvR/wnH/BQv8A6Nf%2BDP8A4fjVv/mXo/sLKP8Anyvvkvymg/4ip4iPfMZv1jRl/wClYaR5j/w6btYv%2BPH/AIKNftWW/osXxgOPyNtVP4K/sq3n7Mn/AAUL8FrdftMfFP4irrXwZ8ZbP%2BFmeKRqZ0/ydW8K5%2BzkRp5fmeaN/Xd5UfTbz61/wnH/AAUL/wCjX/gz/wCH41b/AOZeqHgfwP8AtWeMf2rPDnxu%2BN3w4%2BHvhnRvDPw98Q6HDD4V%2BId9rV1d3WpX2iXCMyXGkWKRRomlygsHdi0qALjJG1DKsvw1VVKULSX96b/Bza/A8/NOPuL87wM8HjsVz052uvZYeN7NNe9DDU5rVLaa7O6un7rRRRXoHx4UUUUAFFFFABXg/wDwTs8K6X4Y%2BCvi6bTg2/Vfjz8Sr67ZsfNK3jPWE7dgqKPwr3ivkr9krxZ%2B2dp/w98UWfwx%2BAfww1fQk%2BNPxF/s/Ude%2BLuo6bdzL/wmesljJbRaBcpEQ24ACZ8gA5BO0JxTab6FxqVIQlBPSVrrvZ3X3PU%2BtaK8Z/4Tj/goX/0a/wDBn/w/Grf/ADL0f8Jx/wAFC/8Ao1/4M/8Ah%2BNW/wDmXpkHs1FeM/8ACcf8FC/%2BjX/gz/4fjVv/AJl6P%2BE4/wCChf8A0a/8Gf8Aw/Grf/MvQB7NRXzj8Ef2jv27fjx8GPCHxx8K/sofCS10vxn4X0/XdNttQ%2BOuqLPDBd20dxGkgTwwyhwsgDBWYZBwSOa6j/hOP%2BChf/Rr/wAGf/D8at/8y9AHs1FeM/8ACcf8FC/%2BjX/gz/4fjVv/AJl6P%2BE4/wCChf8A0a/8Gf8Aw/Grf/MvQB7NRXzj8bv2jv27fgP8GPF/xx8VfsofCS60vwZ4X1DXdSttP%2BOuqNPNBaW0lxIkYfwwqlysZChmUZIyQOa6j/hOP%2BChf/Rr/wAGf/D8at/8y9AHs1FeM/8ACcf8FC/%2BjX/gz/4fjVv/AJl6P%2BE4/wCChf8A0a/8Gf8Aw/Grf/MvQB7NRXjP/Ccf8FC/%2BjX/AIM/%2BH41b/5l65f4u/tHft2/BrwpaeL/ABH%2Byh8JLm3vPFGiaFHHZfHXVGcT6pqtrpkDnd4YUbFmu42c5yEViAxwpAPo6ivGf%2BE4/wCChf8A0a/8Gf8Aw/Grf/MvR/wnH/BQv/o1/wCDP/h%2BNW/%2BZegD2aivGf8AhOP%2BChf/AEa/8Gf/AA/Grf8AzL0f8Jx/wUL/AOjX/gz/AOH41b/5l6APZqK%2BcfH37R37dvw78V%2BCPCGsfsofCSa48eeKJdC0qS2%2BOuqFIJ49K1DUy8u7wwCE8nTplBUMd7oMYJZeo/4Tj/goX/0a/wDBn/w/Grf/ADL0AezUV4z/AMJx/wAFC/8Ao1/4M/8Ah%2BNW/wDmXo/4Tj/goX/0a/8ABn/w/Grf/MvQB7NRXjP/AAnH/BQv/o1/4M/%2BH41b/wCZeuX1b9o79u3R/jPoHwOuP2UPhI2qeIvC%2Br67Z3KfHXVPIjg065023mRyfDG4OzapAVAUghJMlSFDAH0dRXjP/Ccf8FC/%2BjX/AIM/%2BH41b/5l6P8AhOP%2BChf/AEa/8Gf/AA/Grf8AzL0AezUV4z/wnH/BQv8A6Nf%2BDP8A4fjVv/mXo/4Tj/goX/0a/wDBn/w/Grf/ADL0AezUV846T%2B0d%2B3brHxn1/wCB1v8AsofCRdU8O%2BF9I128uX%2BOuqeRJBqNzqVvCiEeGNxdW0ucsCoADx4LEsF6j/hOP%2BChf/Rr/wAGf/D8at/8y9AHs1FeM/8ACcf8FC/%2BjX/gz/4fjVv/AJl6P%2BE4/wCChf8A0a/8Gf8Aw/Grf/MvQB7NRXjP/Ccf8FC/%2BjX/AIM/%2BH41b/5l65fwD%2B0d%2B3b8RPFfjfwho/7KHwkhuPAfiiLQtVkufjrqgSeeTStP1MPFt8MElPJ1GFSWCnejjGAGYA%2BjqK8Z/wCE4/4KF/8ARr/wZ/8AD8at/wDMvR/wnH/BQv8A6Nf%2BDP8A4fjVv/mXoA9mrxn9l/8A5Lf%2B0d/2Wax/9QrwvR/wnH/BQv8A6Nf%2BDP8A4fjVv/mXq3%2Byt8OfjT4P1j4oeO/jpoHhfSdU8ffEKLXLPSvCfiW51a3tbWLQdH0xVe4uLKzZpGk06Vyoi2hZEG5jnAB63RRRQAUUUUAFFFFABRRRQAUUUUAFFFFABRRRQAUUUUAFFFFABRRRQAUUUUAFfK/7T37Wnxc%2BGHxj8Wa14B8O%2BD5PDHwf8P8Ah%2B98anWtIuJtV1S31e/lS5gsLiO4jSy8i2s47jMkU4uZCkZEPl%2BafqivGfjP%2BxD8OPjd8Uj8TNc8c%2BKtLi1G10i18X%2BGtGurVNO8UwaXeyXtjFfLLbyTBY5ppc/Z5YDLHIYpjLGFQAHs1FFFABRRRQB8x%2BHP2lfiZD%2B3/wCKPg/8RtY8PeE/Da%2BILTRPBkWo/CLWUuvGMA0CDUcQeI2u105pY7u51AC0ELyeXaTAKCzSL9OV5X4s/Zag8f8Axk0j4p%2BPfjf411fSvD2ux61oHgC4OmRaNY6hHbvBHOGhskvZdnmSSKk11JGJH3bPkQL6pQAUUUUAeL/8FBfi78cP2fv2R/Gnx6%2BAV74Uj1jwToV3rl1B4w0W5vra7tLW2lme3RLa6tmSV2RFEhcqgLEo/Arz/wAeftafFzwX8ePFup%2BFPDvhCL4eeEPjH4R%2BH3jKzm0i4Ot6rquuwaKkeoQ3aXCwxxwf25pMZikt5XkSGfEse1BXsP7WP7ONl%2B1p8CNe/Z91r4q%2BKfCOk%2BJ7KWx1y/8ACC6d9rubKWJ4prbdf2l1GiOr8siLICo2uvOeLg/YB8HT/EWz%2BIvir44%2BPtdY6zpOueJtG1CXSorHxPrmmJGljq17HbWETLcRCC0wts0EDGxti8TGPJAPe6KKKACvF/2yfi78cPgla%2BAfGPwsvfCn9jah8TPDnh7xfY%2BINFubm6ubXVdZsdNBs5YbqFLaSNbmWTfIk6koi7OSa9oryr9q79lt/wBqrw3oXhef4%2B%2BN/A1voXiSw11G8Fw6Oz3d7Y3kF5ZtKdS0%2B8G2K4t43CxhA3Kyb1O0AHnH7PP7SvxM1v8Aaq8W/BH4oav4e8J6dD4p1u38E%2BEpPhFrOmXOvW0LpKb%2B31q4u/sGoOxkmllitoC/JdiuGJ%2BnK8l0n9lEP8ZNF%2BMvxH/aA8d%2BNZvC93eXfhPQvEI0mGw0e6ubeS1kuIlsNPtpZX%2BzzTwr58kqos77QCQR61QAUUUUAeH/ALd3xc%2BPH7P3wa1f46/Cjxj4FsdP8LaLc3l7ovizwze39z4hvcotnplnJbXsH2ea4lIt0byrpmlniCwsflbz/wCCP7X3xn1z4l%2BCv7W8GeEtI%2BGnjf4n%2BKPht4V8Nadpc0er6Jf6BDq2%2Bee5Fw1vNBI3h/U0WGO3iMatbHzJMsB6f%2B0r%2ByDB%2B0l488EfECb9oHx34QufAN3c3ui2PhiLRp7OS9lQRreTQanp14jzwx%2BYsMgCmMTykfM2RV8B/sNfD3wH8Zbf4uw/EXxdqUGna7qevaJ4Q1K5sv7J0rW9RjePUNUgSK1Sfz5xPdlleZ4Ua%2BuTHFH5nAB7XRRRQAV8v/tc/Hj9pf4LfETT/CmlQ%2BAPGuj%2BOYdattF%2BHMXg%2B%2Bk1hLW00O6u5L%2B4nF68V1bC6it7aSEWsQP2%2BFBMZGRJPqCvDpv2JriP9o/xX%2B01on7VfxL07V/Fumw6dc6XDB4fntNPs4YGjhtrNrnSZbm3iWV3utizbXncu4cHbQAz9hD9oPxv8e/h7eXXxX8faNfeLtOFm2v%2BG7L4Xav4RvNAee2WUQXNlq91PcOC2/y7gBI5FQ7Q20mvdK83%2BB37N2nfBnxP4k%2BIesfFLxT448VeK4rG31jxP4uawW5e0sxN9ltUi0%2B1tbaOKNrm5cbYQzNcSFmbIx6RQAUUUUAfHP8AwUE/bj%2BKn7GHjn%2B09c0XQPGPhF9G1HW7fwrL8OdTspbdNN0a%2B1JJP%2BEimun0ye7%2B16aNlisCXQjmWUDbC0jevfs0fF3456t8VPG/7PX7R1z4U1DxP4R0nQ9aj1rwVpFzYWNzY6oLyNIjBc3Ny6yxXGnXal/NxIhibZGSVFb46/sJeCP2nNaurX4//Fvxr4o8F3MlxIvwyvJNNh0WKSaxmsmbfb2Ud9IBHcTMElunQO%2B7b8iBen/Z8/Zm0j4B3mveIrv4oeLPHHiPxIbOPVvFXjW4s3vpba0iMVraj7HbW8KxRB5WGI97PPK7s7OTQB6VRRRQAV8R/tT/ALZX7Wfwb%2BNXiD4UeDvDfhzxrqdhotxrvhgJ8D/EEcmigajplqhhb7c48TSCx1S487%2By/KeFoSsojEwjr7crw/Xv2LdT8S%2BPT8Tta/a5%2BKM2t6fBeReDbwpoAHhVbqaGSf7JGNJ2Ts0cC2%2B69W6ZYmcKVd2cgHVfssfFh/jJ8I4PFl78TNG8VX8Oo3Vlql9o3gy%2B8Oi2uIpWVrWbTdQuJ7qznjGFeOZw%2Bfm2qGAr0auG%2BAfwF8PfADwzqejaV4p1vxBqOv69ca34k8SeI5oGvdVv5giNPKLeKGBMRxQxKkMUcapEgCjBJ7mgAooooAKKKKACiiigAooooAo%2BKPENh4S8Naj4r1UObXTLGa7uREuW8uNC7YHc4U185/sTftJ/Gvx/4p0fwZ8bPD3gyzHjr4W2XxG8Mw%2BDNKuLQaZHeXBN3p92ZriUXc0b3Ns/2xBAJ2lmJgj2gv8AS13aWt/ay2N7bpNDNG0c0UqhldSMFSDwQRxivIf2Zv2K/AX7MGqvq%2BgfEHxb4lltvDFj4Z8OjxZe2sw0DQrN5Ht9NtTb28JaNTJ80s5muJBHF5kz%2BWuAD2KiiigArhf2oPHnxF%2BFn7NHxE%2BJ3wf8KLr3i3w54F1fVPC2htYzXQ1HUbezlltrYwwMsswklRE8uNg7bsKQSDXdVneLdEv/ABL4Y1Dw/pfivUdCub20kht9a0hYGurF2UgTRC4iliLqeQJI3TI%2BZWGQQDy79in4tT/FD4Z31lq3xC8P6zqfh3VV0680zRPhhqfg59DQW0EkVncaVqlzPcwuEcSK7eWjxSxbEwN7%2BxV558B/2dtJ%2BB154l8R3PxE8SeMfEni/UYbzxF4p8VvZi7ujDbpbwRCOxtra2iijjQBVjhTJZ2YszMx9DoAKKKKAPlz9qj9rH4ofs4fF7xxZfErRvCXiL4X2H7O/i/x7baFb6JcJqrtog0tZ7a4uZLl7eaKdb6cBBbIVCJl3ywrt/2Z/i/8fNU%2BLnjL9nX9pZ/CV54o8MeGPD3iWPVfBWk3NjZSWWrPqVutsYbm5uXMsNxpF2DKJAsiPE3lxnctQfGP9hXw78dPjq3xl8efHbxzLps3grU/CN98PYYNF/sS70bUltvt9pIX01r0idrSB2cXQdShCMiMyHpP2d/2XdD/AGfb7WvEc/xQ8W%2BN/EOv2thZX/ifxtc2kl6bCxSRbOzH2S2t4/KiM9w4JQyO9zK7u7NmgD0%2BiiigAr5E%2BNf7S/7W3gzXf2gPAlv4V8GeLL3wF4f8KeJPhtY6T8P9Tv51j1HVdShCXlrFePLqM8C6bHOpthbkuSFX5VavruvC5f2KPEMXx08bfH/Qv20PitpWreN9IsdMubGys/DDWmm21lcXM9mlsJdFeT90by6UGZ5S6zkSeYVQqAdX%2Byp8W5vjL8KR4m1H4naN4p1G11W5sdWutH8EX/hs2dxE3zWs%2BmajcT3VpOildyTMGIZW2qrCvSa4T4B/APQPgDoWs2On%2BLdc8R6r4m8QS654n8TeJJbdr3Vb%2BSGGDzZBbQwwRhYLe3hVIoo0VIUAXOSe7oAKKKKAPjb9pb9rv9pb9nj4zQfDbWU%2BGfjW%2B1uCCbwjDp3ha9tJfBd5qXiHTPD2kTanK99MLqKdtXnBaJbORxY3Sxhl8wxe4/sq/F/4kfEYeP8A4ffGI6JP4q%2BGnjxvDWs6r4a06azsNT8zS9O1a3uIbeaeeS3za6pbo8bTS4kjkwxBGOFtv%2BCavhJrr4hv4h/aX%2BJ2s2/xJ1465rFvqR0LzLPUoriGfT7m2uotLS6U2D29uLSN5pIolhQMj859Y%2BAfwF0P4B%2BHtW02y8X654k1bxFr02teJ/FHiV7Y3%2Br30kcUPnTC1gggXZBBbwIkUUaLHBGoXgkgHdUUUUAMuftP2aT7Hs87YfK83O3djjOOcZr4g%2BK37XP7afw0%2BImufDa3tvAfjPXvDF74at9W8deCPgrr%2BrR%2BHLfVmvHvbCXSrPUp7u5mjhsrG6JinT93dQtLAgMTSfb13DJcWstvDdSQPJGyrPEFLxkjAZdwK5HUZBHqDXz38GP2AvEHwE%2BG1x8NPh3%2B3V8Yoo7rVn1ObWbyy8Jz6hLdyvLJczzTPoR%2B0yTvLukknEj5jTYUAwQD1n4CfEOy%2BK3wd8P/ABCsPiBo3ipNT08SPr/h/SZrC0u5ASshS1nmmltirqyNDJI7xsrKx3KQOvrkvgX8F/CX7Pvwv074U%2BCrm/uLKwluria%2B1W5E11fXd1cy3V1dTOFUNLNcTzSvtVV3SHaqrhR1tABVHxPD4kufDeoW/g3U7Gy1eSylXS7zU7B7q2guChEcksMcsTTRq2CyLJGWAIDqTuF6s3xjoN/4o8LX/h3S/FupaDc3lq8UGtaOIDdWLkcTRC4iliLqeQJI3Q4%2BZWGRQB8PfDf9uz9rX4wfFPW/gl8LNN%2BHyeM9NtddvpPGfiv4Xa1oa6ppmkWuiypYy6JeXyahp8r3fiHYk08zx%2BVDJcJC6zoD9jfAL4tab8fPgT4K%2BOujabLZ2fjXwlpuvWlnM%2B54Iry1juFjYgDJUSAE%2BorxbV/%2BCZHgfWtcvviLd/tKfFNPiBqyXlrrXxJtr3SIdWv9Mura1tptMKJpos4bYpZWjDyLaKVZIFlWUOWY/Qfgvwf4a%2BHng7SfAHgzSYtP0fQ9Mg0/SbCHOy2toY1jijXPOFRVUfSgDTooooA5f406j440b4W61rfw58Q2Ol6tYWZuob7UPB974gRI4yHlA06xngubyRoldUihkDl2XCufkb4t%2BEv/AAUR%2BP3iTxpoep%2BN7jwj4E8GalPOviDxxefAzxFNbaxfw6/daQiXMq30aeGZ5LW0tf3GqNJLA8qxvnYEr7b%2BJngzXfHvhKbw54b%2BKWv%2BDbySWN4tf8MxWL3cG1gSqrf21zAwYAqQ8TcE4wcEeK3X/BObwpqHg%2B4%2BG2rftIfE278Ma5qE1/480Ca40cReMLue8a6uJr6VdNFxF5pZYWjs5bWIQxJGqKN24A%2BiaKKKACiiigAooooAKKKKACiiigAooooAKKKKACiiigAooooAKKKKACiiigAooooAKKKKACiiigAooooAKKKKACiiigAooooAKKKKACiiigAooooAKKKKACiiigAooooAKKKKACiiigAooooAKKKKACiiigAooooAKKKKACiiigAooooAKKKKACiiigAooooAKKKKACiiigAooooAKKKKACiiigAooooAKKKKACiiigAooooAKKKKACiiigAooooAKKKKACiiigAooooAKKKKACiiigAooooAKKKKACiiigAooooAKKKKACiiigAooooAKKKKAP/Z\">"
            ]
          },
          "metadata": {
            "tags": []
          }
        }
      ]
    },
    {
      "cell_type": "markdown",
      "metadata": {
        "id": "6nqdETwGecYZ"
      },
      "source": [
        "# Submit a linear model"
      ]
    },
    {
      "cell_type": "code",
      "metadata": {
        "collapsed": true,
        "id": "hKktzD93ecYZ"
      },
      "source": [
        "## GRADED PART, DO NOT CHANGE!\n",
        "# Testing shapes \n",
        "grader.set_answer(\"9XaAS\", grading_utils.get_tensors_shapes_string([W, b, input_X, input_y, logits, probas, classes]))\n",
        "# Validation loss\n",
        "grader.set_answer(\"vmogZ\", s.run(loss, {input_X: X_val_flat, input_y: y_val_oh}))\n",
        "# Validation accuracy\n",
        "grader.set_answer(\"RMv95\", accuracy_score(y_val, s.run(classes, {input_X: X_val_flat})))"
      ],
      "execution_count": null,
      "outputs": []
    },
    {
      "cell_type": "code",
      "metadata": {
        "id": "3ETGToIYecYZ",
        "outputId": "2a3d3689-c4d5-4bab-a223-0a987e876f8b"
      },
      "source": [
        "# you can make submission with answers so far to check yourself at this stage\n",
        "grader.submit(COURSERA_EMAIL, COURSERA_TOKEN)"
      ],
      "execution_count": null,
      "outputs": [
        {
          "output_type": "stream",
          "text": [
            "Submitted to Coursera platform. See results on assignment page!\n"
          ],
          "name": "stdout"
        }
      ]
    },
    {
      "cell_type": "markdown",
      "metadata": {
        "id": "rFZ34mQ0ecYa"
      },
      "source": [
        "# MLP with hidden layers"
      ]
    },
    {
      "cell_type": "markdown",
      "metadata": {
        "id": "nEp2NJb-ecYa"
      },
      "source": [
        "Previously we've coded a dense layer with matrix multiplication by hand. \n",
        "But this is not convenient, you have to create a lot of variables and your code becomes a mess. \n",
        "In TensorFlow there's an easier way to make a dense layer:\n",
        "```python\n",
        "hidden1 = tf.layers.dense(inputs, 256, activation=tf.nn.sigmoid)\n",
        "```\n",
        "\n",
        "That will create all the necessary variables automatically.\n",
        "Here you can also choose an activation function (remember that we need it for a hidden layer!).\n",
        "\n",
        "Now define the MLP with 2 hidden layers and restart training with the cell above.\n",
        "\n",
        "You're aiming for ~0.97 validation accuracy here."
      ]
    },
    {
      "cell_type": "code",
      "metadata": {
        "collapsed": true,
        "id": "4EkrBmoyecYa"
      },
      "source": [
        "# write the code here to get a new `step` operation and then run the cell with training loop above.\n",
        "# name your variables in the same way (e.g. logits, probas, classes, etc) for safety.\n",
        "### YOUR CODE HERE ###\n",
        "hidden1 = tf.layers.dense(input_X, 256, activation=tf.nn.sigmoid)\n",
        "hidden2 = tf.layers.dense(hidden1, 256, activation=tf.nn.sigmoid)\n",
        "logits = tf.layers.dense(hidden2, 10)\n",
        "\n",
        "probas = tf.nn.softmax(logits) ### YOUR CODE HERE ### apply tf.nn.softmax to logits\n",
        "classes = tf.argmax(probas,1) ### YOUR CODE HERE ### apply tf.argmax to find a class index with highest probability\n",
        "\n",
        "loss = tf.reduce_mean(tf.nn.softmax_cross_entropy_with_logits(labels=input_y, logits=logits))\n",
        "# Use a default tf.train.AdamOptimizer to get an SGD step\n",
        "### YOUR CODE HERE \n",
        "optimizer = tf.train.AdamOptimizer()\n",
        "### optimizer step that minimizes the loss\n",
        "step = optimizer.minimize(loss)"
      ],
      "execution_count": null,
      "outputs": []
    },
    {
      "cell_type": "markdown",
      "metadata": {
        "id": "bilLYXFEecYa"
      },
      "source": [
        "# Submit the MLP with 2 hidden layers\n",
        "Run these cells after training the MLP with 2 hidden layers"
      ]
    },
    {
      "cell_type": "code",
      "metadata": {
        "collapsed": true,
        "id": "1PVLD6h5ecYb"
      },
      "source": [
        "## GRADED PART, DO NOT CHANGE!\n",
        "# Validation loss for MLP\n",
        "grader.set_answer(\"i8bgs\", s.run(loss, {input_X: X_val_flat, input_y: y_val_oh}))\n",
        "# Validation accuracy for MLP\n",
        "grader.set_answer(\"rE763\", accuracy_score(y_val, s.run(classes, {input_X: X_val_flat})))"
      ],
      "execution_count": null,
      "outputs": []
    },
    {
      "cell_type": "code",
      "metadata": {
        "id": "HXa0NzFMecYb",
        "outputId": "a2c0d6c8-68f8-4488-8f59-ddcdc7f10d26"
      },
      "source": [
        "# you can make submission with answers so far to check yourself at this stage\n",
        "grader.submit(COURSERA_EMAIL, COURSERA_TOKEN)"
      ],
      "execution_count": null,
      "outputs": [
        {
          "output_type": "stream",
          "text": [
            "Submitted to Coursera platform. See results on assignment page!\n"
          ],
          "name": "stdout"
        }
      ]
    },
    {
      "cell_type": "code",
      "metadata": {
        "collapsed": true,
        "id": "U4L9V9_LecYb"
      },
      "source": [
        ""
      ],
      "execution_count": null,
      "outputs": []
    }
  ]
}